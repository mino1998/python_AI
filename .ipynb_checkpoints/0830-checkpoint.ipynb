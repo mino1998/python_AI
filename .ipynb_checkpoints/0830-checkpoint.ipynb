{
 "cells": [
  {
   "cell_type": "markdown",
   "id": "b8db204e",
   "metadata": {},
   "source": [
    "## 공통코드"
   ]
  },
  {
   "cell_type": "code",
   "execution_count": 2,
   "id": "c52f3a1f",
   "metadata": {},
   "outputs": [],
   "source": [
    "import numpy as np\n",
    "import pandas as pd\n",
    "import matplotlib.pyplot as plt\n",
    "import platform\n",
    "from matplotlib import font_manager, rc\n",
    "import seaborn as sns\n",
    "import scipy as sp\n",
    "import scipy.stats\n",
    "import os\n",
    "import matplotlib as mpl\n",
    "# 시각화에서 한글 설정\n",
    "if platform.system() == 'Darwin':\n",
    "    rc('font', family='AppleGothic')\n",
    "elif platform.system() == 'Windows':\n",
    "    font_path = \"c:/Windows/Fonts/malgun.ttf\"\n",
    "    font_name = font_manager.FontProperties(fname=font_path).get_name()\n",
    "    rc('font', family=font_name)\n",
    "\n",
    "# 시각화에서 음수 표현 설정\n",
    "plt.rcParams['axes.unicode_minus'] = False \n",
    "\n",
    "# Jupyter Notebook 출력 소수점 이하 3자리로 제한\n",
    "%precision 3\n",
    "pd.options.display.precision = 3\n",
    "\n",
    "# 이미지 저장 경로 설정\n",
    "PROJECT_ROOT_DIR = \".\"\n",
    "CHAPTER_ID = \"classification\"\n",
    "IMAGES_PATH = os.path.join(PROJECT_ROOT_DIR, \"images\", CHAPTER_ID)\n",
    "os.makedirs(IMAGES_PATH, exist_ok=True)\n",
    "def save_fig(fig_id, tight_layout=True, fig_extension=\"png\", resolution=300):\n",
    "    path = os.path.join(IMAGES_PATH, fig_id + \".\" + fig_extension)\n",
    "    print(\"그림 저장:\", fig_id)\n",
    "    if tight_layout:\n",
    "        plt.tight_layout()\n",
    "    plt.savefig(path, format=fig_extension, dpi=resolution)\n",
    "\n",
    "# 시각화 설정\n",
    "mpl.rc('axes', labelsize=14)\n",
    "mpl.rc('xtick', labelsize=12)\n",
    "mpl.rc('ytick', labelsize=12)\n",
    "\n",
    "# 음수 부호 표시 오류 제어\n",
    "mpl.rcParams['axes.unicode_minus'] = False\n",
    "\n",
    "# Seaborn 및 Scipy 임포트\n",
    "import seaborn as sns\n",
    "import scipy as sp\n",
    "from scipy import stats\n",
    "\n",
    "# 사이킷런 버전 확인 및 설정\n",
    "import sklearn\n",
    "assert sklearn.__version__ >= \"0.20\"\n",
    "\n",
    "# 결과 재현을 위한 난수 시드 설정\n",
    "# 모델을 만드는 작업을 여러 번에 걸쳐서 하는 경우\n",
    "# 시드가 변경이 되어 훈련용 데이터가 자주 변경된다면\n",
    "# 결국 모든 데이터를 가지고 모델을 생성하는 결과를 초래함\n",
    "# Overfitting 문제 발생\n",
    "np.random.seed(42)"
   ]
  },
  {
   "cell_type": "code",
   "execution_count": 3,
   "id": "94970e42",
   "metadata": {},
   "outputs": [],
   "source": [
    "from sklearn.linear_model import LogisticRegression\n",
    "from sklearn.preprocessing import StandardScaler\n",
    "from sklearn.neighbors import KNeighborsClassifier\n",
    "from sklearn import datasets\n",
    "from sklearn import preprocessing\n",
    "from sklearn.discriminant_analysis import LinearDiscriminantAnalysis\n",
    "from sklearn.model_selection import cross_val_predict\n",
    "from sklearn.metrics import confusion_matrix\n",
    "from sklearn.datasets import fetch_openml"
   ]
  },
  {
   "cell_type": "code",
   "execution_count": 4,
   "id": "07a64180",
   "metadata": {},
   "outputs": [
    {
     "name": "stderr",
     "output_type": "stream",
     "text": [
      "C:\\Users\\USER\\anaconda3\\lib\\site-packages\\sklearn\\datasets\\_openml.py:932: FutureWarning: The default value of `parser` will change from `'liac-arff'` to `'auto'` in 1.4. You can set `parser='auto'` to silence this warning. Therefore, an `ImportError` will be raised from 1.4 if the dataset is dense and pandas is not installed. Note that the pandas parser may return different data types. See the Notes Section in fetch_openml's API doc for details.\n",
      "  warn(\n"
     ]
    }
   ],
   "source": [
    "# 데이터 가져오기\n",
    "iris=datasets.load_iris()\n",
    "loan_data=pd.read_csv('./data/loan_data.csv.gz')\n",
    "loan200=pd.read_csv('./data/loan200.csv')\n",
    "loan3000=pd.read_csv('./data/loan3000.csv')\n",
    "mnist=fetch_openml('mnist_784', version=1, as_frame=False)"
   ]
  },
  {
   "cell_type": "markdown",
   "id": "1791aba7",
   "metadata": {},
   "source": [
    "### boston 데이터 import"
   ]
  },
  {
   "cell_type": "code",
   "execution_count": 5,
   "id": "a2a95700",
   "metadata": {},
   "outputs": [],
   "source": [
    "# 데이터 가져오기\n",
    "data_url='http://lib.stat.cmu.edu/datasets/boston'\n",
    "raw_df=pd.read_csv(data_url, sep='\\s+', skiprows=22, header=None)\n",
    "data=np.hstack([raw_df.values[::2,:],raw_df.values[1::2,:2]])\n",
    "target=raw_df.values[1::2,2]"
   ]
  },
  {
   "cell_type": "code",
   "execution_count": 6,
   "id": "2159617e",
   "metadata": {},
   "outputs": [
    {
     "name": "stdout",
     "output_type": "stream",
     "text": [
      "Boston 데이터 세트 크기 : (506, 14)\n"
     ]
    },
    {
     "data": {
      "text/html": [
       "<div>\n",
       "<style scoped>\n",
       "    .dataframe tbody tr th:only-of-type {\n",
       "        vertical-align: middle;\n",
       "    }\n",
       "\n",
       "    .dataframe tbody tr th {\n",
       "        vertical-align: top;\n",
       "    }\n",
       "\n",
       "    .dataframe thead th {\n",
       "        text-align: right;\n",
       "    }\n",
       "</style>\n",
       "<table border=\"1\" class=\"dataframe\">\n",
       "  <thead>\n",
       "    <tr style=\"text-align: right;\">\n",
       "      <th></th>\n",
       "      <th>CRIM</th>\n",
       "      <th>ZN</th>\n",
       "      <th>INDUS</th>\n",
       "      <th>CHAS</th>\n",
       "      <th>NOX</th>\n",
       "      <th>RM</th>\n",
       "      <th>AGE</th>\n",
       "      <th>DIS</th>\n",
       "      <th>RAD</th>\n",
       "      <th>TAX</th>\n",
       "      <th>PTRATIO</th>\n",
       "      <th>B</th>\n",
       "      <th>LSTAT</th>\n",
       "      <th>PRICE</th>\n",
       "    </tr>\n",
       "  </thead>\n",
       "  <tbody>\n",
       "    <tr>\n",
       "      <th>0</th>\n",
       "      <td>0.006</td>\n",
       "      <td>18.0</td>\n",
       "      <td>2.31</td>\n",
       "      <td>0.0</td>\n",
       "      <td>0.538</td>\n",
       "      <td>6.575</td>\n",
       "      <td>65.2</td>\n",
       "      <td>4.090</td>\n",
       "      <td>1.0</td>\n",
       "      <td>296.0</td>\n",
       "      <td>15.3</td>\n",
       "      <td>396.90</td>\n",
       "      <td>4.98</td>\n",
       "      <td>24.0</td>\n",
       "    </tr>\n",
       "    <tr>\n",
       "      <th>1</th>\n",
       "      <td>0.027</td>\n",
       "      <td>0.0</td>\n",
       "      <td>7.07</td>\n",
       "      <td>0.0</td>\n",
       "      <td>0.469</td>\n",
       "      <td>6.421</td>\n",
       "      <td>78.9</td>\n",
       "      <td>4.967</td>\n",
       "      <td>2.0</td>\n",
       "      <td>242.0</td>\n",
       "      <td>17.8</td>\n",
       "      <td>396.90</td>\n",
       "      <td>9.14</td>\n",
       "      <td>21.6</td>\n",
       "    </tr>\n",
       "    <tr>\n",
       "      <th>2</th>\n",
       "      <td>0.027</td>\n",
       "      <td>0.0</td>\n",
       "      <td>7.07</td>\n",
       "      <td>0.0</td>\n",
       "      <td>0.469</td>\n",
       "      <td>7.185</td>\n",
       "      <td>61.1</td>\n",
       "      <td>4.967</td>\n",
       "      <td>2.0</td>\n",
       "      <td>242.0</td>\n",
       "      <td>17.8</td>\n",
       "      <td>392.83</td>\n",
       "      <td>4.03</td>\n",
       "      <td>34.7</td>\n",
       "    </tr>\n",
       "    <tr>\n",
       "      <th>3</th>\n",
       "      <td>0.032</td>\n",
       "      <td>0.0</td>\n",
       "      <td>2.18</td>\n",
       "      <td>0.0</td>\n",
       "      <td>0.458</td>\n",
       "      <td>6.998</td>\n",
       "      <td>45.8</td>\n",
       "      <td>6.062</td>\n",
       "      <td>3.0</td>\n",
       "      <td>222.0</td>\n",
       "      <td>18.7</td>\n",
       "      <td>394.63</td>\n",
       "      <td>2.94</td>\n",
       "      <td>33.4</td>\n",
       "    </tr>\n",
       "    <tr>\n",
       "      <th>4</th>\n",
       "      <td>0.069</td>\n",
       "      <td>0.0</td>\n",
       "      <td>2.18</td>\n",
       "      <td>0.0</td>\n",
       "      <td>0.458</td>\n",
       "      <td>7.147</td>\n",
       "      <td>54.2</td>\n",
       "      <td>6.062</td>\n",
       "      <td>3.0</td>\n",
       "      <td>222.0</td>\n",
       "      <td>18.7</td>\n",
       "      <td>396.90</td>\n",
       "      <td>5.33</td>\n",
       "      <td>36.2</td>\n",
       "    </tr>\n",
       "  </tbody>\n",
       "</table>\n",
       "</div>"
      ],
      "text/plain": [
       "    CRIM    ZN  INDUS  CHAS    NOX     RM   AGE    DIS  RAD    TAX  PTRATIO  \\\n",
       "0  0.006  18.0   2.31   0.0  0.538  6.575  65.2  4.090  1.0  296.0     15.3   \n",
       "1  0.027   0.0   7.07   0.0  0.469  6.421  78.9  4.967  2.0  242.0     17.8   \n",
       "2  0.027   0.0   7.07   0.0  0.469  7.185  61.1  4.967  2.0  242.0     17.8   \n",
       "3  0.032   0.0   2.18   0.0  0.458  6.998  45.8  6.062  3.0  222.0     18.7   \n",
       "4  0.069   0.0   2.18   0.0  0.458  7.147  54.2  6.062  3.0  222.0     18.7   \n",
       "\n",
       "        B  LSTAT  PRICE  \n",
       "0  396.90   4.98   24.0  \n",
       "1  396.90   9.14   21.6  \n",
       "2  392.83   4.03   34.7  \n",
       "3  394.63   2.94   33.4  \n",
       "4  396.90   5.33   36.2  "
      ]
     },
     "execution_count": 6,
     "metadata": {},
     "output_type": "execute_result"
    }
   ],
   "source": [
    "# boston 데이터 세트 DataFrame 변환\n",
    "bostonDF = pd.DataFrame(data, columns = [\"CRIM\", \"ZN\", \"INDUS\", \"CHAS\", \"NOX\", \n",
    "\"RM\", \"AGE\", \"DIS\", \"RAD\", \"TAX\", \"PTRATIO\", \"B\", \"LSTAT\"])\n",
    "# boston 데이터 세트의 target 배열은 주택 가격임 . 이를 PRICE 칼럼으로 DataFrame에 추가\n",
    "bostonDF['PRICE'] = target\n",
    "print('Boston 데이터 세트 크기 :', bostonDF.shape)\n",
    "bostonDF.head()"
   ]
  },
  {
   "cell_type": "markdown",
   "id": "8d35003e",
   "metadata": {},
   "source": [
    "## 다변량 선형 회귀"
   ]
  },
  {
   "cell_type": "markdown",
   "id": "01acf185",
   "metadata": {},
   "source": [
    "### 보스톤 주택 가격을 다변량 선형 회귀를 이용해서 예측"
   ]
  },
  {
   "cell_type": "code",
   "execution_count": 7,
   "id": "35aa3088",
   "metadata": {},
   "outputs": [
    {
     "name": "stdout",
     "output_type": "stream",
     "text": [
      "0    24.0\n",
      "1    21.6\n",
      "2    34.7\n",
      "3    33.4\n",
      "4    36.2\n",
      "Name: PRICE, dtype: float64\n",
      "    CRIM    ZN  INDUS  CHAS    NOX     RM   AGE    DIS  RAD    TAX  PTRATIO  \\\n",
      "0  0.006  18.0   2.31   0.0  0.538  6.575  65.2  4.090  1.0  296.0     15.3   \n",
      "1  0.027   0.0   7.07   0.0  0.469  6.421  78.9  4.967  2.0  242.0     17.8   \n",
      "2  0.027   0.0   7.07   0.0  0.469  7.185  61.1  4.967  2.0  242.0     17.8   \n",
      "3  0.032   0.0   2.18   0.0  0.458  6.998  45.8  6.062  3.0  222.0     18.7   \n",
      "4  0.069   0.0   2.18   0.0  0.458  7.147  54.2  6.062  3.0  222.0     18.7   \n",
      "\n",
      "        B  LSTAT  \n",
      "0  396.90   4.98  \n",
      "1  396.90   9.14  \n",
      "2  392.83   4.03  \n",
      "3  394.63   2.94  \n",
      "4  396.90   5.33  \n"
     ]
    }
   ],
   "source": [
    "# 데이터 가져오기\n",
    "y_target=bostonDF['PRICE']\n",
    "X_data=bostonDF.drop(['PRICE'],axis=1,inplace=False)\n",
    "print(y_target.head())\n",
    "print(X_data.head())"
   ]
  },
  {
   "cell_type": "code",
   "execution_count": 8,
   "id": "f1cf7692",
   "metadata": {},
   "outputs": [
    {
     "name": "stdout",
     "output_type": "stream",
     "text": [
      "(404, 13)\n",
      "(102, 13)\n",
      "(404,)\n",
      "(102,)\n"
     ]
    }
   ],
   "source": [
    "# 훈련 데이터와 테스트 데이터 분리 (7:3)\n",
    "from sklearn.model_selection import train_test_split\n",
    "X_train,X_test,y_train,y_test=train_test_split(X_data,y_target,\n",
    "                                               test_size=0.2, random_state=42)\n",
    "# shape를 print해서 구조가 맞는지 확인한다.\n",
    "print(X_train.shape)\n",
    "print(X_test.shape)\n",
    "print(y_train.shape)\n",
    "print(y_test.shape)"
   ]
  },
  {
   "cell_type": "code",
   "execution_count": 9,
   "id": "68609524",
   "metadata": {},
   "outputs": [
    {
     "data": {
      "text/html": [
       "<style>#sk-container-id-1 {color: black;background-color: white;}#sk-container-id-1 pre{padding: 0;}#sk-container-id-1 div.sk-toggleable {background-color: white;}#sk-container-id-1 label.sk-toggleable__label {cursor: pointer;display: block;width: 100%;margin-bottom: 0;padding: 0.3em;box-sizing: border-box;text-align: center;}#sk-container-id-1 label.sk-toggleable__label-arrow:before {content: \"▸\";float: left;margin-right: 0.25em;color: #696969;}#sk-container-id-1 label.sk-toggleable__label-arrow:hover:before {color: black;}#sk-container-id-1 div.sk-estimator:hover label.sk-toggleable__label-arrow:before {color: black;}#sk-container-id-1 div.sk-toggleable__content {max-height: 0;max-width: 0;overflow: hidden;text-align: left;background-color: #f0f8ff;}#sk-container-id-1 div.sk-toggleable__content pre {margin: 0.2em;color: black;border-radius: 0.25em;background-color: #f0f8ff;}#sk-container-id-1 input.sk-toggleable__control:checked~div.sk-toggleable__content {max-height: 200px;max-width: 100%;overflow: auto;}#sk-container-id-1 input.sk-toggleable__control:checked~label.sk-toggleable__label-arrow:before {content: \"▾\";}#sk-container-id-1 div.sk-estimator input.sk-toggleable__control:checked~label.sk-toggleable__label {background-color: #d4ebff;}#sk-container-id-1 div.sk-label input.sk-toggleable__control:checked~label.sk-toggleable__label {background-color: #d4ebff;}#sk-container-id-1 input.sk-hidden--visually {border: 0;clip: rect(1px 1px 1px 1px);clip: rect(1px, 1px, 1px, 1px);height: 1px;margin: -1px;overflow: hidden;padding: 0;position: absolute;width: 1px;}#sk-container-id-1 div.sk-estimator {font-family: monospace;background-color: #f0f8ff;border: 1px dotted black;border-radius: 0.25em;box-sizing: border-box;margin-bottom: 0.5em;}#sk-container-id-1 div.sk-estimator:hover {background-color: #d4ebff;}#sk-container-id-1 div.sk-parallel-item::after {content: \"\";width: 100%;border-bottom: 1px solid gray;flex-grow: 1;}#sk-container-id-1 div.sk-label:hover label.sk-toggleable__label {background-color: #d4ebff;}#sk-container-id-1 div.sk-serial::before {content: \"\";position: absolute;border-left: 1px solid gray;box-sizing: border-box;top: 0;bottom: 0;left: 50%;z-index: 0;}#sk-container-id-1 div.sk-serial {display: flex;flex-direction: column;align-items: center;background-color: white;padding-right: 0.2em;padding-left: 0.2em;position: relative;}#sk-container-id-1 div.sk-item {position: relative;z-index: 1;}#sk-container-id-1 div.sk-parallel {display: flex;align-items: stretch;justify-content: center;background-color: white;position: relative;}#sk-container-id-1 div.sk-item::before, #sk-container-id-1 div.sk-parallel-item::before {content: \"\";position: absolute;border-left: 1px solid gray;box-sizing: border-box;top: 0;bottom: 0;left: 50%;z-index: -1;}#sk-container-id-1 div.sk-parallel-item {display: flex;flex-direction: column;z-index: 1;position: relative;background-color: white;}#sk-container-id-1 div.sk-parallel-item:first-child::after {align-self: flex-end;width: 50%;}#sk-container-id-1 div.sk-parallel-item:last-child::after {align-self: flex-start;width: 50%;}#sk-container-id-1 div.sk-parallel-item:only-child::after {width: 0;}#sk-container-id-1 div.sk-dashed-wrapped {border: 1px dashed gray;margin: 0 0.4em 0.5em 0.4em;box-sizing: border-box;padding-bottom: 0.4em;background-color: white;}#sk-container-id-1 div.sk-label label {font-family: monospace;font-weight: bold;display: inline-block;line-height: 1.2em;}#sk-container-id-1 div.sk-label-container {text-align: center;}#sk-container-id-1 div.sk-container {/* jupyter's `normalize.less` sets `[hidden] { display: none; }` but bootstrap.min.css set `[hidden] { display: none !important; }` so we also need the `!important` here to be able to override the default hidden behavior on the sphinx rendered scikit-learn.org. See: https://github.com/scikit-learn/scikit-learn/issues/21755 */display: inline-block !important;position: relative;}#sk-container-id-1 div.sk-text-repr-fallback {display: none;}</style><div id=\"sk-container-id-1\" class=\"sk-top-container\"><div class=\"sk-text-repr-fallback\"><pre>LinearRegression()</pre><b>In a Jupyter environment, please rerun this cell to show the HTML representation or trust the notebook. <br />On GitHub, the HTML representation is unable to render, please try loading this page with nbviewer.org.</b></div><div class=\"sk-container\" hidden><div class=\"sk-item\"><div class=\"sk-estimator sk-toggleable\"><input class=\"sk-toggleable__control sk-hidden--visually\" id=\"sk-estimator-id-1\" type=\"checkbox\" checked><label for=\"sk-estimator-id-1\" class=\"sk-toggleable__label sk-toggleable__label-arrow\">LinearRegression</label><div class=\"sk-toggleable__content\"><pre>LinearRegression()</pre></div></div></div></div></div>"
      ],
      "text/plain": [
       "LinearRegression()"
      ]
     },
     "execution_count": 9,
     "metadata": {},
     "output_type": "execute_result"
    }
   ],
   "source": [
    "# 회귀 모델을 생성하고 훈련하기\n",
    "from sklearn.linear_model import LinearRegression\n",
    "lr=LinearRegression()\n",
    "lr.fit(X_train,y_train)"
   ]
  },
  {
   "cell_type": "code",
   "execution_count": 10,
   "id": "40bcc634",
   "metadata": {},
   "outputs": [
    {
     "name": "stdout",
     "output_type": "stream",
     "text": [
      "mse :  24.29111947497371\n",
      "rmse :  4.928602182665355\n",
      "r2_score :  0.6687594935356294\n"
     ]
    }
   ],
   "source": [
    "# 평가\n",
    "y_pred=lr.predict(X_test)\n",
    "from sklearn.metrics import mean_squared_error, r2_score\n",
    "mse=mean_squared_error(y_test,y_pred)\n",
    "# mse는 제곱을 하기에 실제 데이터보다 스케일이 큰 경우가 있다.\n",
    "# 제곱근해서 많이 사용합니다.\n",
    "rmse=np.sqrt(mse)\n",
    "r2score=r2_score(y_test,y_pred)\n",
    "print('mse : ', mse)\n",
    "print('rmse : ',rmse)\n",
    "print('r2_score : ',r2score)"
   ]
  },
  {
   "cell_type": "code",
   "execution_count": 11,
   "id": "f995d3bf",
   "metadata": {},
   "outputs": [
    {
     "name": "stdout",
     "output_type": "stream",
     "text": [
      "절편 :  30.24675099392408\n",
      "기울기 :  [-1.131e-01  3.011e-02  4.038e-02  2.784e+00 -1.720e+01  4.439e+00\n",
      " -6.296e-03 -1.448e+00  2.624e-01 -1.065e-02 -9.155e-01  1.235e-02\n",
      " -5.086e-01]\n"
     ]
    }
   ],
   "source": [
    "# 회귀 계수와 절편 값을 확인하자\n",
    "print('절편 : ', lr.intercept_)\n",
    "print('기울기 : ',lr.coef_)"
   ]
  },
  {
   "cell_type": "markdown",
   "id": "9d38085e",
   "metadata": {},
   "source": [
    "## Score.csv score 예측하기"
   ]
  },
  {
   "cell_type": "code",
   "execution_count": 12,
   "id": "23b1fbd9",
   "metadata": {},
   "outputs": [
    {
     "data": {
      "text/html": [
       "<div>\n",
       "<style scoped>\n",
       "    .dataframe tbody tr th:only-of-type {\n",
       "        vertical-align: middle;\n",
       "    }\n",
       "\n",
       "    .dataframe tbody tr th {\n",
       "        vertical-align: top;\n",
       "    }\n",
       "\n",
       "    .dataframe thead th {\n",
       "        text-align: right;\n",
       "    }\n",
       "</style>\n",
       "<table border=\"1\" class=\"dataframe\">\n",
       "  <thead>\n",
       "    <tr style=\"text-align: right;\">\n",
       "      <th></th>\n",
       "      <th>name</th>\n",
       "      <th>score</th>\n",
       "      <th>iq</th>\n",
       "      <th>academy</th>\n",
       "      <th>game</th>\n",
       "      <th>tv</th>\n",
       "    </tr>\n",
       "  </thead>\n",
       "  <tbody>\n",
       "    <tr>\n",
       "      <th>0</th>\n",
       "      <td>A</td>\n",
       "      <td>90</td>\n",
       "      <td>140</td>\n",
       "      <td>2</td>\n",
       "      <td>1</td>\n",
       "      <td>0</td>\n",
       "    </tr>\n",
       "    <tr>\n",
       "      <th>1</th>\n",
       "      <td>B</td>\n",
       "      <td>75</td>\n",
       "      <td>125</td>\n",
       "      <td>1</td>\n",
       "      <td>3</td>\n",
       "      <td>3</td>\n",
       "    </tr>\n",
       "    <tr>\n",
       "      <th>2</th>\n",
       "      <td>C</td>\n",
       "      <td>77</td>\n",
       "      <td>120</td>\n",
       "      <td>1</td>\n",
       "      <td>0</td>\n",
       "      <td>4</td>\n",
       "    </tr>\n",
       "    <tr>\n",
       "      <th>3</th>\n",
       "      <td>D</td>\n",
       "      <td>83</td>\n",
       "      <td>135</td>\n",
       "      <td>2</td>\n",
       "      <td>3</td>\n",
       "      <td>2</td>\n",
       "    </tr>\n",
       "    <tr>\n",
       "      <th>4</th>\n",
       "      <td>E</td>\n",
       "      <td>65</td>\n",
       "      <td>105</td>\n",
       "      <td>0</td>\n",
       "      <td>4</td>\n",
       "      <td>4</td>\n",
       "    </tr>\n",
       "  </tbody>\n",
       "</table>\n",
       "</div>"
      ],
      "text/plain": [
       "  name  score   iq  academy  game  tv\n",
       "0    A     90  140        2     1   0\n",
       "1    B     75  125        1     3   3\n",
       "2    C     77  120        1     0   4\n",
       "3    D     83  135        2     3   2\n",
       "4    E     65  105        0     4   4"
      ]
     },
     "execution_count": 12,
     "metadata": {},
     "output_type": "execute_result"
    }
   ],
   "source": [
    "# data load\n",
    "df=pd.read_csv('./data/score.csv', encoding='cp949')\n",
    "df.head()"
   ]
  },
  {
   "cell_type": "code",
   "execution_count": 13,
   "id": "6efb5b5c",
   "metadata": {},
   "outputs": [
    {
     "name": "stdout",
     "output_type": "stream",
     "text": [
      "절편과 기울기 :  Intercept    25.047\n",
      "iq            0.474\n",
      "game         -0.904\n",
      "tv           -1.823\n",
      "dtype: float64\n",
      "p-value(유의확률) :  Intercept    0.072\n",
      "iq           0.001\n",
      "game         0.082\n",
      "tv           0.021\n",
      "dtype: float64\n",
      "결정 계수  0.957351876527423\n"
     ]
    }
   ],
   "source": [
    "import statsmodels.formula.api as sm\n",
    "result=sm.ols(formula='score ~ iq + game + tv', data=df).fit()\n",
    "print('절편과 기울기 : ', result.params)\n",
    "print(\"p-value(유의확률) : \", result.pvalues)\n",
    "print(\"결정 계수 \", result.rsquared) # 1에 가까우면 좋다."
   ]
  },
  {
   "cell_type": "code",
   "execution_count": 16,
   "id": "cd532afa",
   "metadata": {},
   "outputs": [
    {
     "name": "stdout",
     "output_type": "stream",
     "text": [
      "예상 점수 :  86.62439299765549\n"
     ]
    }
   ],
   "source": [
    "# 예측\n",
    "# iq 130 학원 3개 게임 2시간 tv 1시간 보는 학생의 예상점수\n",
    "y=result.params.Intercept+130*result.params.iq\n",
    "2*result.params.game+1*result.params.tv\n",
    "print('예상 점수 : ', y)"
   ]
  },
  {
   "cell_type": "code",
   "execution_count": 17,
   "id": "e5aa4ce3",
   "metadata": {},
   "outputs": [
    {
     "data": {
      "image/png": "[encoded data removed]",
      "text/plain": [
       "<Figure size 640x480 with 1 Axes>"
      ]
     },
     "metadata": {},
     "output_type": "display_data"
    }
   ],
   "source": [
    "# 예측 값과 실제 값의 시각화\n",
    "plt.figure()\n",
    "plt.plot(df['score'],label='실제 성적')\n",
    "plt.plot(result.predict(),label='예측성적')\n",
    "plt.xticks(range(0,10,1),df['name'])\n",
    "plt.legend()\n",
    "plt.show()"
   ]
  },
  {
   "cell_type": "code",
   "execution_count": 18,
   "id": "025c0862",
   "metadata": {},
   "outputs": [
    {
     "name": "stdout",
     "output_type": "stream",
     "text": [
      "   VIF Factor features\n",
      "0       3.542       iq\n",
      "1       2.918     game\n",
      "2       2.954       tv\n"
     ]
    }
   ],
   "source": [
    "# VIF(분산 팽창 요인) 출력하기\n",
    "# 관련 없는 feature drop하기\n",
    "X=df.drop(['score','name','academy'], axis=1)\n",
    "from statsmodels.stats.outliers_influence import variance_inflation_factor\n",
    "vif=pd.DataFrame()\n",
    "vif[\"VIF Factor\"]=[variance_inflation_factor(X.values,i) for i in range(X.shape[1])]\n",
    "vif[\"features\"]=X.columns\n",
    "print(vif)"
   ]
  },
  {
   "cell_type": "markdown",
   "id": "fdbe4ff2",
   "metadata": {},
   "source": [
    "### boston에서 Ridge 모델 적용해보기"
   ]
  },
  {
   "cell_type": "code",
   "execution_count": 19,
   "id": "3df4cffa",
   "metadata": {},
   "outputs": [],
   "source": [
    "from sklearn.linear_model import Ridge\n",
    "y_target=bostonDF['PRICE']\n",
    "X_data=bostonDF.drop(['PRICE'],axis=1,inplace=False)"
   ]
  },
  {
   "cell_type": "code",
   "execution_count": 20,
   "id": "b4f9d58c",
   "metadata": {},
   "outputs": [
    {
     "name": "stdout",
     "output_type": "stream",
     "text": [
      "alpha 0 일 때 folds의 평균 RMSE : 5.828658946215806\n",
      "alpha 0.1 일 때 folds의 평균 RMSE : 5.788486627032412\n",
      "alpha 1 일 때 folds의 평균 RMSE : 5.652570965613549\n",
      "alpha 10 일 때 folds의 평균 RMSE : 5.518166280868973\n",
      "alpha 100 일 때 folds의 평균 RMSE : 5.329589628472148\n"
     ]
    }
   ],
   "source": [
    "from sklearn.model_selection import cross_val_score\n",
    "# 적용할 규제 값\n",
    "alphas=[0,0.1,1,10,100]\n",
    "for alpha in alphas:\n",
    "    ridge=Ridge(alpha=alpha)\n",
    "    neg_mse_scores=cross_val_score(ridge,X_data,y_target,\n",
    "                                   scoring='neg_mean_squared_error',cv=5)\n",
    "    avg_rmse=np.mean(np.sqrt(-1*neg_mse_scores))\n",
    "    print('alpha {0} 일 때 folds의 평균 RMSE : {1}'.format(alpha,avg_rmse))"
   ]
  },
  {
   "cell_type": "markdown",
   "id": "8eadf5a3",
   "metadata": {},
   "source": [
    "## 비선형 회귀"
   ]
  },
  {
   "cell_type": "markdown",
   "id": "ab760bb5",
   "metadata": {},
   "source": [
    "### KNN"
   ]
  },
  {
   "cell_type": "code",
   "execution_count": 21,
   "id": "bc0f0e81",
   "metadata": {},
   "outputs": [
    {
     "data": {
      "text/html": [
       "<style>#sk-container-id-2 {color: black;background-color: white;}#sk-container-id-2 pre{padding: 0;}#sk-container-id-2 div.sk-toggleable {background-color: white;}#sk-container-id-2 label.sk-toggleable__label {cursor: pointer;display: block;width: 100%;margin-bottom: 0;padding: 0.3em;box-sizing: border-box;text-align: center;}#sk-container-id-2 label.sk-toggleable__label-arrow:before {content: \"▸\";float: left;margin-right: 0.25em;color: #696969;}#sk-container-id-2 label.sk-toggleable__label-arrow:hover:before {color: black;}#sk-container-id-2 div.sk-estimator:hover label.sk-toggleable__label-arrow:before {color: black;}#sk-container-id-2 div.sk-toggleable__content {max-height: 0;max-width: 0;overflow: hidden;text-align: left;background-color: #f0f8ff;}#sk-container-id-2 div.sk-toggleable__content pre {margin: 0.2em;color: black;border-radius: 0.25em;background-color: #f0f8ff;}#sk-container-id-2 input.sk-toggleable__control:checked~div.sk-toggleable__content {max-height: 200px;max-width: 100%;overflow: auto;}#sk-container-id-2 input.sk-toggleable__control:checked~label.sk-toggleable__label-arrow:before {content: \"▾\";}#sk-container-id-2 div.sk-estimator input.sk-toggleable__control:checked~label.sk-toggleable__label {background-color: #d4ebff;}#sk-container-id-2 div.sk-label input.sk-toggleable__control:checked~label.sk-toggleable__label {background-color: #d4ebff;}#sk-container-id-2 input.sk-hidden--visually {border: 0;clip: rect(1px 1px 1px 1px);clip: rect(1px, 1px, 1px, 1px);height: 1px;margin: -1px;overflow: hidden;padding: 0;position: absolute;width: 1px;}#sk-container-id-2 div.sk-estimator {font-family: monospace;background-color: #f0f8ff;border: 1px dotted black;border-radius: 0.25em;box-sizing: border-box;margin-bottom: 0.5em;}#sk-container-id-2 div.sk-estimator:hover {background-color: #d4ebff;}#sk-container-id-2 div.sk-parallel-item::after {content: \"\";width: 100%;border-bottom: 1px solid gray;flex-grow: 1;}#sk-container-id-2 div.sk-label:hover label.sk-toggleable__label {background-color: #d4ebff;}#sk-container-id-2 div.sk-serial::before {content: \"\";position: absolute;border-left: 1px solid gray;box-sizing: border-box;top: 0;bottom: 0;left: 50%;z-index: 0;}#sk-container-id-2 div.sk-serial {display: flex;flex-direction: column;align-items: center;background-color: white;padding-right: 0.2em;padding-left: 0.2em;position: relative;}#sk-container-id-2 div.sk-item {position: relative;z-index: 1;}#sk-container-id-2 div.sk-parallel {display: flex;align-items: stretch;justify-content: center;background-color: white;position: relative;}#sk-container-id-2 div.sk-item::before, #sk-container-id-2 div.sk-parallel-item::before {content: \"\";position: absolute;border-left: 1px solid gray;box-sizing: border-box;top: 0;bottom: 0;left: 50%;z-index: -1;}#sk-container-id-2 div.sk-parallel-item {display: flex;flex-direction: column;z-index: 1;position: relative;background-color: white;}#sk-container-id-2 div.sk-parallel-item:first-child::after {align-self: flex-end;width: 50%;}#sk-container-id-2 div.sk-parallel-item:last-child::after {align-self: flex-start;width: 50%;}#sk-container-id-2 div.sk-parallel-item:only-child::after {width: 0;}#sk-container-id-2 div.sk-dashed-wrapped {border: 1px dashed gray;margin: 0 0.4em 0.5em 0.4em;box-sizing: border-box;padding-bottom: 0.4em;background-color: white;}#sk-container-id-2 div.sk-label label {font-family: monospace;font-weight: bold;display: inline-block;line-height: 1.2em;}#sk-container-id-2 div.sk-label-container {text-align: center;}#sk-container-id-2 div.sk-container {/* jupyter's `normalize.less` sets `[hidden] { display: none; }` but bootstrap.min.css set `[hidden] { display: none !important; }` so we also need the `!important` here to be able to override the default hidden behavior on the sphinx rendered scikit-learn.org. See: https://github.com/scikit-learn/scikit-learn/issues/21755 */display: inline-block !important;position: relative;}#sk-container-id-2 div.sk-text-repr-fallback {display: none;}</style><div id=\"sk-container-id-2\" class=\"sk-top-container\"><div class=\"sk-text-repr-fallback\"><pre>KNeighborsRegressor(n_neighbors=3, weights=&#x27;distance&#x27;)</pre><b>In a Jupyter environment, please rerun this cell to show the HTML representation or trust the notebook. <br />On GitHub, the HTML representation is unable to render, please try loading this page with nbviewer.org.</b></div><div class=\"sk-container\" hidden><div class=\"sk-item\"><div class=\"sk-estimator sk-toggleable\"><input class=\"sk-toggleable__control sk-hidden--visually\" id=\"sk-estimator-id-2\" type=\"checkbox\" checked><label for=\"sk-estimator-id-2\" class=\"sk-toggleable__label sk-toggleable__label-arrow\">KNeighborsRegressor</label><div class=\"sk-toggleable__content\"><pre>KNeighborsRegressor(n_neighbors=3, weights=&#x27;distance&#x27;)</pre></div></div></div></div></div>"
      ],
      "text/plain": [
       "KNeighborsRegressor(n_neighbors=3, weights='distance')"
      ]
     },
     "execution_count": 21,
     "metadata": {},
     "output_type": "execute_result"
    }
   ],
   "source": [
    "from sklearn.neighbors import KNeighborsRegressor\n",
    "# 거리를 가지고 가중 평균을 구해서 예측\n",
    "# uniform을 설정하면 일반 평균\n",
    "regressor=KNeighborsRegressor(n_neighbors=3,weights='distance')\n",
    "X_train=[\n",
    "    [0.5,0.2,0.1],\n",
    "    [0.9,0.7,0.3],\n",
    "    [0.4,0.4,0.7],\n",
    "    [0.2,0.3,0.5]\n",
    "]\n",
    "y_train=[5.0,6.8,9.0,4.3]\n",
    "regressor.fit(X_train,y_train)"
   ]
  },
  {
   "cell_type": "code",
   "execution_count": 22,
   "id": "d5f05d76",
   "metadata": {},
   "outputs": [
    {
     "name": "stdout",
     "output_type": "stream",
     "text": [
      "[5.317 7.013]\n"
     ]
    }
   ],
   "source": [
    "X_test=[\n",
    "    [0.8,0.1,0.2],\n",
    "    [0.4,0.7,0.6],\n",
    "]\n",
    "pred=regressor.predict(X_test)\n",
    "print(pred)"
   ]
  },
  {
   "cell_type": "markdown",
   "id": "fa9056c4",
   "metadata": {},
   "source": [
    "### Decision Tree를 이용한 회귀 및 시각화"
   ]
  },
  {
   "cell_type": "code",
   "execution_count": 23,
   "id": "9cace255",
   "metadata": {},
   "outputs": [],
   "source": [
    "# 샘플 데이터 생성\n",
    "np.random.seed(42)\n",
    "m=200\n",
    "X=np.random.rand(m,1)\n",
    "y=y*(X-0.5)**2\n",
    "y=y+np.random.randn(m,1)/10"
   ]
  },
  {
   "cell_type": "code",
   "execution_count": 24,
   "id": "663cf1b8",
   "metadata": {},
   "outputs": [
    {
     "data": {
      "text/html": [
       "<style>#sk-container-id-3 {color: black;background-color: white;}#sk-container-id-3 pre{padding: 0;}#sk-container-id-3 div.sk-toggleable {background-color: white;}#sk-container-id-3 label.sk-toggleable__label {cursor: pointer;display: block;width: 100%;margin-bottom: 0;padding: 0.3em;box-sizing: border-box;text-align: center;}#sk-container-id-3 label.sk-toggleable__label-arrow:before {content: \"▸\";float: left;margin-right: 0.25em;color: #696969;}#sk-container-id-3 label.sk-toggleable__label-arrow:hover:before {color: black;}#sk-container-id-3 div.sk-estimator:hover label.sk-toggleable__label-arrow:before {color: black;}#sk-container-id-3 div.sk-toggleable__content {max-height: 0;max-width: 0;overflow: hidden;text-align: left;background-color: #f0f8ff;}#sk-container-id-3 div.sk-toggleable__content pre {margin: 0.2em;color: black;border-radius: 0.25em;background-color: #f0f8ff;}#sk-container-id-3 input.sk-toggleable__control:checked~div.sk-toggleable__content {max-height: 200px;max-width: 100%;overflow: auto;}#sk-container-id-3 input.sk-toggleable__control:checked~label.sk-toggleable__label-arrow:before {content: \"▾\";}#sk-container-id-3 div.sk-estimator input.sk-toggleable__control:checked~label.sk-toggleable__label {background-color: #d4ebff;}#sk-container-id-3 div.sk-label input.sk-toggleable__control:checked~label.sk-toggleable__label {background-color: #d4ebff;}#sk-container-id-3 input.sk-hidden--visually {border: 0;clip: rect(1px 1px 1px 1px);clip: rect(1px, 1px, 1px, 1px);height: 1px;margin: -1px;overflow: hidden;padding: 0;position: absolute;width: 1px;}#sk-container-id-3 div.sk-estimator {font-family: monospace;background-color: #f0f8ff;border: 1px dotted black;border-radius: 0.25em;box-sizing: border-box;margin-bottom: 0.5em;}#sk-container-id-3 div.sk-estimator:hover {background-color: #d4ebff;}#sk-container-id-3 div.sk-parallel-item::after {content: \"\";width: 100%;border-bottom: 1px solid gray;flex-grow: 1;}#sk-container-id-3 div.sk-label:hover label.sk-toggleable__label {background-color: #d4ebff;}#sk-container-id-3 div.sk-serial::before {content: \"\";position: absolute;border-left: 1px solid gray;box-sizing: border-box;top: 0;bottom: 0;left: 50%;z-index: 0;}#sk-container-id-3 div.sk-serial {display: flex;flex-direction: column;align-items: center;background-color: white;padding-right: 0.2em;padding-left: 0.2em;position: relative;}#sk-container-id-3 div.sk-item {position: relative;z-index: 1;}#sk-container-id-3 div.sk-parallel {display: flex;align-items: stretch;justify-content: center;background-color: white;position: relative;}#sk-container-id-3 div.sk-item::before, #sk-container-id-3 div.sk-parallel-item::before {content: \"\";position: absolute;border-left: 1px solid gray;box-sizing: border-box;top: 0;bottom: 0;left: 50%;z-index: -1;}#sk-container-id-3 div.sk-parallel-item {display: flex;flex-direction: column;z-index: 1;position: relative;background-color: white;}#sk-container-id-3 div.sk-parallel-item:first-child::after {align-self: flex-end;width: 50%;}#sk-container-id-3 div.sk-parallel-item:last-child::after {align-self: flex-start;width: 50%;}#sk-container-id-3 div.sk-parallel-item:only-child::after {width: 0;}#sk-container-id-3 div.sk-dashed-wrapped {border: 1px dashed gray;margin: 0 0.4em 0.5em 0.4em;box-sizing: border-box;padding-bottom: 0.4em;background-color: white;}#sk-container-id-3 div.sk-label label {font-family: monospace;font-weight: bold;display: inline-block;line-height: 1.2em;}#sk-container-id-3 div.sk-label-container {text-align: center;}#sk-container-id-3 div.sk-container {/* jupyter's `normalize.less` sets `[hidden] { display: none; }` but bootstrap.min.css set `[hidden] { display: none !important; }` so we also need the `!important` here to be able to override the default hidden behavior on the sphinx rendered scikit-learn.org. See: https://github.com/scikit-learn/scikit-learn/issues/21755 */display: inline-block !important;position: relative;}#sk-container-id-3 div.sk-text-repr-fallback {display: none;}</style><div id=\"sk-container-id-3\" class=\"sk-top-container\"><div class=\"sk-text-repr-fallback\"><pre>DecisionTreeRegressor(max_depth=2, random_state=42)</pre><b>In a Jupyter environment, please rerun this cell to show the HTML representation or trust the notebook. <br />On GitHub, the HTML representation is unable to render, please try loading this page with nbviewer.org.</b></div><div class=\"sk-container\" hidden><div class=\"sk-item\"><div class=\"sk-estimator sk-toggleable\"><input class=\"sk-toggleable__control sk-hidden--visually\" id=\"sk-estimator-id-3\" type=\"checkbox\" checked><label for=\"sk-estimator-id-3\" class=\"sk-toggleable__label sk-toggleable__label-arrow\">DecisionTreeRegressor</label><div class=\"sk-toggleable__content\"><pre>DecisionTreeRegressor(max_depth=2, random_state=42)</pre></div></div></div></div></div>"
      ],
      "text/plain": [
       "DecisionTreeRegressor(max_depth=2, random_state=42)"
      ]
     },
     "execution_count": 24,
     "metadata": {},
     "output_type": "execute_result"
    }
   ],
   "source": [
    "from sklearn.tree import DecisionTreeRegressor\n",
    "tree_reg=DecisionTreeRegressor(max_depth=2, random_state=42)\n",
    "tree_reg.fit(X,y)"
   ]
  },
  {
   "cell_type": "code",
   "execution_count": 25,
   "id": "68f38b16",
   "metadata": {},
   "outputs": [
    {
     "data": {
      "image/svg+xml": [
       "<?xml version=\"1.0\" encoding=\"UTF-8\" standalone=\"no\"?>\n",
       "<!DOCTYPE svg PUBLIC \"-//W3C//DTD SVG 1.1//EN\"\n",
       " \"http://www.w3.org/Graphics/SVG/1.1/DTD/svg11.dtd\">\n",
       "<!-- Generated by graphviz version 2.50.0 (0)\n",
       " -->\n",
       "<!-- Title: Tree Pages: 1 -->\n",
       "<svg width=\"660pt\" height=\"269pt\"\n",
       " viewBox=\"0.00 0.00 660.00 269.00\" xmlns=\"http://www.w3.org/2000/svg\" xmlns:xlink=\"http://www.w3.org/1999/xlink\">\n",
       "<g id=\"graph0\" class=\"graph\" transform=\"scale(1 1) rotate(0) translate(4 265)\">\n",
       "<title>Tree</title>\n",
       "<polygon fill=\"white\" stroke=\"transparent\" points=\"-4,4 -4,-265 656,-265 656,4 -4,4\"/>\n",
       "<!-- 0 -->\n",
       "<g id=\"node1\" class=\"node\">\n",
       "<title>0</title>\n",
       "<path fill=\"#f8ddca\" stroke=\"black\" d=\"M390.5,-261C390.5,-261 256.5,-261 256.5,-261 250.5,-261 244.5,-255 244.5,-249 244.5,-249 244.5,-205 244.5,-205 244.5,-199 250.5,-193 256.5,-193 256.5,-193 390.5,-193 390.5,-193 396.5,-193 402.5,-199 402.5,-205 402.5,-205 402.5,-249 402.5,-249 402.5,-255 396.5,-261 390.5,-261\"/>\n",
       "<text text-anchor=\"middle\" x=\"323.5\" y=\"-245.8\" font-family=\"Helvetica,sans-Serif\" font-size=\"14.00\">X &lt;= 0.15</text>\n",
       "<text text-anchor=\"middle\" x=\"323.5\" y=\"-230.8\" font-family=\"Helvetica,sans-Serif\" font-size=\"14.00\">squared_error = 39.738</text>\n",
       "<text text-anchor=\"middle\" x=\"323.5\" y=\"-215.8\" font-family=\"Helvetica,sans-Serif\" font-size=\"14.00\">samples = 200</text>\n",
       "<text text-anchor=\"middle\" x=\"323.5\" y=\"-200.8\" font-family=\"Helvetica,sans-Serif\" font-size=\"14.00\">value = 7.524</text>\n",
       "</g>\n",
       "<!-- 1 -->\n",
       "<g id=\"node2\" class=\"node\">\n",
       "<title>1</title>\n",
       "<path fill=\"#ea975c\" stroke=\"black\" d=\"M303,-157C303,-157 176,-157 176,-157 170,-157 164,-151 164,-145 164,-145 164,-101 164,-101 164,-95 170,-89 176,-89 176,-89 303,-89 303,-89 309,-89 315,-95 315,-101 315,-101 315,-145 315,-145 315,-151 309,-157 303,-157\"/>\n",
       "<text text-anchor=\"middle\" x=\"239.5\" y=\"-141.8\" font-family=\"Helvetica,sans-Serif\" font-size=\"14.00\">X &lt;= 0.076</text>\n",
       "<text text-anchor=\"middle\" x=\"239.5\" y=\"-126.8\" font-family=\"Helvetica,sans-Serif\" font-size=\"14.00\">squared_error = 9.454</text>\n",
       "<text text-anchor=\"middle\" x=\"239.5\" y=\"-111.8\" font-family=\"Helvetica,sans-Serif\" font-size=\"14.00\">samples = 33</text>\n",
       "<text text-anchor=\"middle\" x=\"239.5\" y=\"-96.8\" font-family=\"Helvetica,sans-Serif\" font-size=\"14.00\">value = 15.732</text>\n",
       "</g>\n",
       "<!-- 0&#45;&gt;1 -->\n",
       "<g id=\"edge1\" class=\"edge\">\n",
       "<title>0&#45;&gt;1</title>\n",
       "<path fill=\"none\" stroke=\"black\" d=\"M296.23,-192.88C288.97,-184.07 281.03,-174.43 273.46,-165.24\"/>\n",
       "<polygon fill=\"black\" stroke=\"black\" points=\"275.98,-162.79 266.92,-157.3 270.58,-167.24 275.98,-162.79\"/>\n",
       "<text text-anchor=\"middle\" x=\"264.51\" y=\"-178.48\" font-family=\"Helvetica,sans-Serif\" font-size=\"14.00\">True</text>\n",
       "</g>\n",
       "<!-- 4 -->\n",
       "<g id=\"node5\" class=\"node\">\n",
       "<title>4</title>\n",
       "<path fill=\"#fbebe0\" stroke=\"black\" d=\"M472,-157C472,-157 345,-157 345,-157 339,-157 333,-151 333,-145 333,-145 333,-101 333,-101 333,-95 339,-89 345,-89 345,-89 472,-89 472,-89 478,-89 484,-95 484,-101 484,-101 484,-145 484,-145 484,-151 478,-157 472,-157\"/>\n",
       "<text text-anchor=\"middle\" x=\"408.5\" y=\"-141.8\" font-family=\"Helvetica,sans-Serif\" font-size=\"14.00\">X &lt;= 0.823</text>\n",
       "<text text-anchor=\"middle\" x=\"408.5\" y=\"-126.8\" font-family=\"Helvetica,sans-Serif\" font-size=\"14.00\">squared_error = 29.78</text>\n",
       "<text text-anchor=\"middle\" x=\"408.5\" y=\"-111.8\" font-family=\"Helvetica,sans-Serif\" font-size=\"14.00\">samples = 167</text>\n",
       "<text text-anchor=\"middle\" x=\"408.5\" y=\"-96.8\" font-family=\"Helvetica,sans-Serif\" font-size=\"14.00\">value = 5.902</text>\n",
       "</g>\n",
       "<!-- 0&#45;&gt;4 -->\n",
       "<g id=\"edge4\" class=\"edge\">\n",
       "<title>0&#45;&gt;4</title>\n",
       "<path fill=\"none\" stroke=\"black\" d=\"M351.1,-192.88C358.45,-184.07 366.47,-174.43 374.14,-165.24\"/>\n",
       "<polygon fill=\"black\" stroke=\"black\" points=\"377.04,-167.22 380.75,-157.3 371.66,-162.74 377.04,-167.22\"/>\n",
       "<text text-anchor=\"middle\" x=\"383.01\" y=\"-178.5\" font-family=\"Helvetica,sans-Serif\" font-size=\"14.00\">False</text>\n",
       "</g>\n",
       "<!-- 2 -->\n",
       "<g id=\"node3\" class=\"node\">\n",
       "<title>2</title>\n",
       "<path fill=\"#e58139\" stroke=\"black\" d=\"M139,-53C139,-53 12,-53 12,-53 6,-53 0,-47 0,-41 0,-41 0,-12 0,-12 0,-6 6,0 12,0 12,0 139,0 139,0 145,0 151,-6 151,-12 151,-12 151,-41 151,-41 151,-47 145,-53 139,-53\"/>\n",
       "<text text-anchor=\"middle\" x=\"75.5\" y=\"-37.8\" font-family=\"Helvetica,sans-Serif\" font-size=\"14.00\">squared_error = 2.828</text>\n",
       "<text text-anchor=\"middle\" x=\"75.5\" y=\"-22.8\" font-family=\"Helvetica,sans-Serif\" font-size=\"14.00\">samples = 17</text>\n",
       "<text text-anchor=\"middle\" x=\"75.5\" y=\"-7.8\" font-family=\"Helvetica,sans-Serif\" font-size=\"14.00\">value = 18.321</text>\n",
       "</g>\n",
       "<!-- 1&#45;&gt;2 -->\n",
       "<g id=\"edge2\" class=\"edge\">\n",
       "<title>1&#45;&gt;2</title>\n",
       "<path fill=\"none\" stroke=\"black\" d=\"M182.14,-88.95C164.76,-78.93 145.75,-67.98 128.65,-58.13\"/>\n",
       "<polygon fill=\"black\" stroke=\"black\" points=\"130.32,-55.05 119.9,-53.09 126.82,-61.11 130.32,-55.05\"/>\n",
       "</g>\n",
       "<!-- 3 -->\n",
       "<g id=\"node4\" class=\"node\">\n",
       "<title>3</title>\n",
       "<path fill=\"#eeaf81\" stroke=\"black\" d=\"M300,-53C300,-53 181,-53 181,-53 175,-53 169,-47 169,-41 169,-41 169,-12 169,-12 169,-6 175,0 181,0 181,0 300,0 300,0 306,0 312,-6 312,-12 312,-12 312,-41 312,-41 312,-47 306,-53 300,-53\"/>\n",
       "<text text-anchor=\"middle\" x=\"240.5\" y=\"-37.8\" font-family=\"Helvetica,sans-Serif\" font-size=\"14.00\">squared_error = 1.81</text>\n",
       "<text text-anchor=\"middle\" x=\"240.5\" y=\"-22.8\" font-family=\"Helvetica,sans-Serif\" font-size=\"14.00\">samples = 16</text>\n",
       "<text text-anchor=\"middle\" x=\"240.5\" y=\"-7.8\" font-family=\"Helvetica,sans-Serif\" font-size=\"14.00\">value = 12.982</text>\n",
       "</g>\n",
       "<!-- 1&#45;&gt;3 -->\n",
       "<g id=\"edge3\" class=\"edge\">\n",
       "<title>1&#45;&gt;3</title>\n",
       "<path fill=\"none\" stroke=\"black\" d=\"M239.85,-88.95C239.94,-80.72 240.03,-71.85 240.12,-63.48\"/>\n",
       "<polygon fill=\"black\" stroke=\"black\" points=\"243.62,-63.27 240.23,-53.24 236.62,-63.2 243.62,-63.27\"/>\n",
       "</g>\n",
       "<!-- 5 -->\n",
       "<g id=\"node6\" class=\"node\">\n",
       "<title>5</title>\n",
       "<path fill=\"#ffffff\" stroke=\"black\" d=\"M471,-53C471,-53 344,-53 344,-53 338,-53 332,-47 332,-41 332,-41 332,-12 332,-12 332,-6 338,0 344,0 344,0 471,0 471,0 477,0 483,-6 483,-12 483,-12 483,-41 483,-41 483,-47 477,-53 471,-53\"/>\n",
       "<text text-anchor=\"middle\" x=\"407.5\" y=\"-37.8\" font-family=\"Helvetica,sans-Serif\" font-size=\"14.00\">squared_error = 8.993</text>\n",
       "<text text-anchor=\"middle\" x=\"407.5\" y=\"-22.8\" font-family=\"Helvetica,sans-Serif\" font-size=\"14.00\">samples = 133</text>\n",
       "<text text-anchor=\"middle\" x=\"407.5\" y=\"-7.8\" font-family=\"Helvetica,sans-Serif\" font-size=\"14.00\">value = 3.604</text>\n",
       "</g>\n",
       "<!-- 4&#45;&gt;5 -->\n",
       "<g id=\"edge5\" class=\"edge\">\n",
       "<title>4&#45;&gt;5</title>\n",
       "<path fill=\"none\" stroke=\"black\" d=\"M408.15,-88.95C408.06,-80.72 407.97,-71.85 407.88,-63.48\"/>\n",
       "<polygon fill=\"black\" stroke=\"black\" points=\"411.38,-63.2 407.77,-53.24 404.38,-63.27 411.38,-63.2\"/>\n",
       "</g>\n",
       "<!-- 6 -->\n",
       "<g id=\"node7\" class=\"node\">\n",
       "<title>6</title>\n",
       "<path fill=\"#eb9e67\" stroke=\"black\" d=\"M640,-53C640,-53 513,-53 513,-53 507,-53 501,-47 501,-41 501,-41 501,-12 501,-12 501,-6 507,0 513,0 513,0 640,0 640,0 646,0 652,-6 652,-12 652,-12 652,-41 652,-41 652,-47 646,-53 640,-53\"/>\n",
       "<text text-anchor=\"middle\" x=\"576.5\" y=\"-37.8\" font-family=\"Helvetica,sans-Serif\" font-size=\"14.00\">squared_error = 9.597</text>\n",
       "<text text-anchor=\"middle\" x=\"576.5\" y=\"-22.8\" font-family=\"Helvetica,sans-Serif\" font-size=\"14.00\">samples = 34</text>\n",
       "<text text-anchor=\"middle\" x=\"576.5\" y=\"-7.8\" font-family=\"Helvetica,sans-Serif\" font-size=\"14.00\">value = 14.893</text>\n",
       "</g>\n",
       "<!-- 4&#45;&gt;6 -->\n",
       "<g id=\"edge6\" class=\"edge\">\n",
       "<title>4&#45;&gt;6</title>\n",
       "<path fill=\"none\" stroke=\"black\" d=\"M467.26,-88.95C485.07,-78.93 504.54,-67.98 522.05,-58.13\"/>\n",
       "<polygon fill=\"black\" stroke=\"black\" points=\"524.01,-61.04 531.01,-53.09 520.58,-54.94 524.01,-61.04\"/>\n",
       "</g>\n",
       "</g>\n",
       "</svg>\n"
      ],
      "text/plain": [
       "<graphviz.sources.Source at 0x14258bfb0d0>"
      ]
     },
     "execution_count": 25,
     "metadata": {},
     "output_type": "execute_result"
    }
   ],
   "source": [
    "from graphviz import Source\n",
    "from sklearn .tree import export_graphviz\n",
    "export_graphviz(\n",
    "    tree_reg,\n",
    "    out_file='decision_tree.dot',\n",
    "    feature_names=['X'],\n",
    "    class_names=['y'],\n",
    "    rounded=True,\n",
    "    filled=True\n",
    ")\n",
    "#화면출력\n",
    "with open('decision_tree.dot')as f:\n",
    "    dot_graph=f.read()\n",
    "src=Source(dot_graph)\n",
    "src"
   ]
  },
  {
   "cell_type": "code",
   "execution_count": 26,
   "id": "799cfa8f",
   "metadata": {},
   "outputs": [],
   "source": [
    "# max_depth를 높게 설정한다면 중간 가지를 많이 만들어 냅니다.\n",
    "# 높게 설정하면 분류 정확도나 회귀 잔차는 좋은 쪽으로 변화할 가능성이 높다."
   ]
  },
  {
   "cell_type": "code",
   "execution_count": 27,
   "id": "90eaeeec",
   "metadata": {},
   "outputs": [
    {
     "data": {
      "text/html": [
       "<style>#sk-container-id-4 {color: black;background-color: white;}#sk-container-id-4 pre{padding: 0;}#sk-container-id-4 div.sk-toggleable {background-color: white;}#sk-container-id-4 label.sk-toggleable__label {cursor: pointer;display: block;width: 100%;margin-bottom: 0;padding: 0.3em;box-sizing: border-box;text-align: center;}#sk-container-id-4 label.sk-toggleable__label-arrow:before {content: \"▸\";float: left;margin-right: 0.25em;color: #696969;}#sk-container-id-4 label.sk-toggleable__label-arrow:hover:before {color: black;}#sk-container-id-4 div.sk-estimator:hover label.sk-toggleable__label-arrow:before {color: black;}#sk-container-id-4 div.sk-toggleable__content {max-height: 0;max-width: 0;overflow: hidden;text-align: left;background-color: #f0f8ff;}#sk-container-id-4 div.sk-toggleable__content pre {margin: 0.2em;color: black;border-radius: 0.25em;background-color: #f0f8ff;}#sk-container-id-4 input.sk-toggleable__control:checked~div.sk-toggleable__content {max-height: 200px;max-width: 100%;overflow: auto;}#sk-container-id-4 input.sk-toggleable__control:checked~label.sk-toggleable__label-arrow:before {content: \"▾\";}#sk-container-id-4 div.sk-estimator input.sk-toggleable__control:checked~label.sk-toggleable__label {background-color: #d4ebff;}#sk-container-id-4 div.sk-label input.sk-toggleable__control:checked~label.sk-toggleable__label {background-color: #d4ebff;}#sk-container-id-4 input.sk-hidden--visually {border: 0;clip: rect(1px 1px 1px 1px);clip: rect(1px, 1px, 1px, 1px);height: 1px;margin: -1px;overflow: hidden;padding: 0;position: absolute;width: 1px;}#sk-container-id-4 div.sk-estimator {font-family: monospace;background-color: #f0f8ff;border: 1px dotted black;border-radius: 0.25em;box-sizing: border-box;margin-bottom: 0.5em;}#sk-container-id-4 div.sk-estimator:hover {background-color: #d4ebff;}#sk-container-id-4 div.sk-parallel-item::after {content: \"\";width: 100%;border-bottom: 1px solid gray;flex-grow: 1;}#sk-container-id-4 div.sk-label:hover label.sk-toggleable__label {background-color: #d4ebff;}#sk-container-id-4 div.sk-serial::before {content: \"\";position: absolute;border-left: 1px solid gray;box-sizing: border-box;top: 0;bottom: 0;left: 50%;z-index: 0;}#sk-container-id-4 div.sk-serial {display: flex;flex-direction: column;align-items: center;background-color: white;padding-right: 0.2em;padding-left: 0.2em;position: relative;}#sk-container-id-4 div.sk-item {position: relative;z-index: 1;}#sk-container-id-4 div.sk-parallel {display: flex;align-items: stretch;justify-content: center;background-color: white;position: relative;}#sk-container-id-4 div.sk-item::before, #sk-container-id-4 div.sk-parallel-item::before {content: \"\";position: absolute;border-left: 1px solid gray;box-sizing: border-box;top: 0;bottom: 0;left: 50%;z-index: -1;}#sk-container-id-4 div.sk-parallel-item {display: flex;flex-direction: column;z-index: 1;position: relative;background-color: white;}#sk-container-id-4 div.sk-parallel-item:first-child::after {align-self: flex-end;width: 50%;}#sk-container-id-4 div.sk-parallel-item:last-child::after {align-self: flex-start;width: 50%;}#sk-container-id-4 div.sk-parallel-item:only-child::after {width: 0;}#sk-container-id-4 div.sk-dashed-wrapped {border: 1px dashed gray;margin: 0 0.4em 0.5em 0.4em;box-sizing: border-box;padding-bottom: 0.4em;background-color: white;}#sk-container-id-4 div.sk-label label {font-family: monospace;font-weight: bold;display: inline-block;line-height: 1.2em;}#sk-container-id-4 div.sk-label-container {text-align: center;}#sk-container-id-4 div.sk-container {/* jupyter's `normalize.less` sets `[hidden] { display: none; }` but bootstrap.min.css set `[hidden] { display: none !important; }` so we also need the `!important` here to be able to override the default hidden behavior on the sphinx rendered scikit-learn.org. See: https://github.com/scikit-learn/scikit-learn/issues/21755 */display: inline-block !important;position: relative;}#sk-container-id-4 div.sk-text-repr-fallback {display: none;}</style><div id=\"sk-container-id-4\" class=\"sk-top-container\"><div class=\"sk-text-repr-fallback\"><pre>DecisionTreeRegressor(min_samples_leaf=10, random_state=42)</pre><b>In a Jupyter environment, please rerun this cell to show the HTML representation or trust the notebook. <br />On GitHub, the HTML representation is unable to render, please try loading this page with nbviewer.org.</b></div><div class=\"sk-container\" hidden><div class=\"sk-item\"><div class=\"sk-estimator sk-toggleable\"><input class=\"sk-toggleable__control sk-hidden--visually\" id=\"sk-estimator-id-4\" type=\"checkbox\" checked><label for=\"sk-estimator-id-4\" class=\"sk-toggleable__label sk-toggleable__label-arrow\">DecisionTreeRegressor</label><div class=\"sk-toggleable__content\"><pre>DecisionTreeRegressor(min_samples_leaf=10, random_state=42)</pre></div></div></div></div></div>"
      ],
      "text/plain": [
       "DecisionTreeRegressor(min_samples_leaf=10, random_state=42)"
      ]
     },
     "execution_count": 27,
     "metadata": {},
     "output_type": "execute_result"
    }
   ],
   "source": [
    "from sklearn.tree import DecisionTreeRegressor\n",
    "# 터미널(자식이 없는 노드 - LEAF NODE)의 개수가 10이상이어ㅑ 한다는 제약도 가능함\n",
    "# min_samples_leaf 설정하면 각 터미널의 dpeth가 일정하지 않을 수 있다.\n",
    "tree_reg=DecisionTreeRegressor(min_samples_leaf=10, random_state=42)\n",
    "tree_reg.fit(X,y)"
   ]
  },
  {
   "cell_type": "code",
   "execution_count": 28,
   "id": "544ab027",
   "metadata": {},
   "outputs": [
    {
     "data": {
      "image/svg+xml": [
       "<?xml version=\"1.0\" encoding=\"UTF-8\" standalone=\"no\"?>\n",
       "<!DOCTYPE svg PUBLIC \"-//W3C//DTD SVG 1.1//EN\"\n",
       " \"http://www.w3.org/Graphics/SVG/1.1/DTD/svg11.dtd\">\n",
       "<!-- Generated by graphviz version 2.50.0 (0)\n",
       " -->\n",
       "<!-- Title: Tree Pages: 1 -->\n",
       "<svg width=\"835pt\" height=\"997pt\"\n",
       " viewBox=\"0.00 0.00 835.00 997.00\" xmlns=\"http://www.w3.org/2000/svg\" xmlns:xlink=\"http://www.w3.org/1999/xlink\">\n",
       "<g id=\"graph0\" class=\"graph\" transform=\"scale(1 1) rotate(0) translate(4 993)\">\n",
       "<title>Tree</title>\n",
       "<polygon fill=\"white\" stroke=\"transparent\" points=\"-4,4 -4,-993 831,-993 831,4 -4,4\"/>\n",
       "<!-- 0 -->\n",
       "<g id=\"node1\" class=\"node\">\n",
       "<title>0</title>\n",
       "<path fill=\"#f4ccae\" stroke=\"black\" d=\"M396.5,-989C396.5,-989 262.5,-989 262.5,-989 256.5,-989 250.5,-983 250.5,-977 250.5,-977 250.5,-933 250.5,-933 250.5,-927 256.5,-921 262.5,-921 262.5,-921 396.5,-921 396.5,-921 402.5,-921 408.5,-927 408.5,-933 408.5,-933 408.5,-977 408.5,-977 408.5,-983 402.5,-989 396.5,-989\"/>\n",
       "<text text-anchor=\"middle\" x=\"329.5\" y=\"-973.8\" font-family=\"Helvetica,sans-Serif\" font-size=\"14.00\">X &lt;= 0.15</text>\n",
       "<text text-anchor=\"middle\" x=\"329.5\" y=\"-958.8\" font-family=\"Helvetica,sans-Serif\" font-size=\"14.00\">squared_error = 39.738</text>\n",
       "<text text-anchor=\"middle\" x=\"329.5\" y=\"-943.8\" font-family=\"Helvetica,sans-Serif\" font-size=\"14.00\">samples = 200</text>\n",
       "<text text-anchor=\"middle\" x=\"329.5\" y=\"-928.8\" font-family=\"Helvetica,sans-Serif\" font-size=\"14.00\">value = 7.524</text>\n",
       "</g>\n",
       "<!-- 1 -->\n",
       "<g id=\"node2\" class=\"node\">\n",
       "<title>1</title>\n",
       "<path fill=\"#e99355\" stroke=\"black\" d=\"M309,-885C309,-885 182,-885 182,-885 176,-885 170,-879 170,-873 170,-873 170,-829 170,-829 170,-823 176,-817 182,-817 182,-817 309,-817 309,-817 315,-817 321,-823 321,-829 321,-829 321,-873 321,-873 321,-879 315,-885 309,-885\"/>\n",
       "<text text-anchor=\"middle\" x=\"245.5\" y=\"-869.8\" font-family=\"Helvetica,sans-Serif\" font-size=\"14.00\">X &lt;= 0.076</text>\n",
       "<text text-anchor=\"middle\" x=\"245.5\" y=\"-854.8\" font-family=\"Helvetica,sans-Serif\" font-size=\"14.00\">squared_error = 9.454</text>\n",
       "<text text-anchor=\"middle\" x=\"245.5\" y=\"-839.8\" font-family=\"Helvetica,sans-Serif\" font-size=\"14.00\">samples = 33</text>\n",
       "<text text-anchor=\"middle\" x=\"245.5\" y=\"-824.8\" font-family=\"Helvetica,sans-Serif\" font-size=\"14.00\">value = 15.732</text>\n",
       "</g>\n",
       "<!-- 0&#45;&gt;1 -->\n",
       "<g id=\"edge1\" class=\"edge\">\n",
       "<title>0&#45;&gt;1</title>\n",
       "<path fill=\"none\" stroke=\"black\" d=\"M302.23,-920.88C294.97,-912.07 287.03,-902.43 279.46,-893.24\"/>\n",
       "<polygon fill=\"black\" stroke=\"black\" points=\"281.98,-890.79 272.92,-885.3 276.58,-895.24 281.98,-890.79\"/>\n",
       "<text text-anchor=\"middle\" x=\"270.51\" y=\"-906.48\" font-family=\"Helvetica,sans-Serif\" font-size=\"14.00\">True</text>\n",
       "</g>\n",
       "<!-- 4 -->\n",
       "<g id=\"node5\" class=\"node\">\n",
       "<title>4</title>\n",
       "<path fill=\"#f7d7c0\" stroke=\"black\" d=\"M478,-885C478,-885 351,-885 351,-885 345,-885 339,-879 339,-873 339,-873 339,-829 339,-829 339,-823 345,-817 351,-817 351,-817 478,-817 478,-817 484,-817 490,-823 490,-829 490,-829 490,-873 490,-873 490,-879 484,-885 478,-885\"/>\n",
       "<text text-anchor=\"middle\" x=\"414.5\" y=\"-869.8\" font-family=\"Helvetica,sans-Serif\" font-size=\"14.00\">X &lt;= 0.823</text>\n",
       "<text text-anchor=\"middle\" x=\"414.5\" y=\"-854.8\" font-family=\"Helvetica,sans-Serif\" font-size=\"14.00\">squared_error = 29.78</text>\n",
       "<text text-anchor=\"middle\" x=\"414.5\" y=\"-839.8\" font-family=\"Helvetica,sans-Serif\" font-size=\"14.00\">samples = 167</text>\n",
       "<text text-anchor=\"middle\" x=\"414.5\" y=\"-824.8\" font-family=\"Helvetica,sans-Serif\" font-size=\"14.00\">value = 5.902</text>\n",
       "</g>\n",
       "<!-- 0&#45;&gt;4 -->\n",
       "<g id=\"edge4\" class=\"edge\">\n",
       "<title>0&#45;&gt;4</title>\n",
       "<path fill=\"none\" stroke=\"black\" d=\"M357.1,-920.88C364.45,-912.07 372.47,-902.43 380.14,-893.24\"/>\n",
       "<polygon fill=\"black\" stroke=\"black\" points=\"383.04,-895.22 386.75,-885.3 377.66,-890.74 383.04,-895.22\"/>\n",
       "<text text-anchor=\"middle\" x=\"389.01\" y=\"-906.5\" font-family=\"Helvetica,sans-Serif\" font-size=\"14.00\">False</text>\n",
       "</g>\n",
       "<!-- 2 -->\n",
       "<g id=\"node3\" class=\"node\">\n",
       "<title>2</title>\n",
       "<path fill=\"#e58139\" stroke=\"black\" d=\"M145,-773.5C145,-773.5 18,-773.5 18,-773.5 12,-773.5 6,-767.5 6,-761.5 6,-761.5 6,-732.5 6,-732.5 6,-726.5 12,-720.5 18,-720.5 18,-720.5 145,-720.5 145,-720.5 151,-720.5 157,-726.5 157,-732.5 157,-732.5 157,-761.5 157,-761.5 157,-767.5 151,-773.5 145,-773.5\"/>\n",
       "<text text-anchor=\"middle\" x=\"81.5\" y=\"-758.3\" font-family=\"Helvetica,sans-Serif\" font-size=\"14.00\">squared_error = 2.828</text>\n",
       "<text text-anchor=\"middle\" x=\"81.5\" y=\"-743.3\" font-family=\"Helvetica,sans-Serif\" font-size=\"14.00\">samples = 17</text>\n",
       "<text text-anchor=\"middle\" x=\"81.5\" y=\"-728.3\" font-family=\"Helvetica,sans-Serif\" font-size=\"14.00\">value = 18.321</text>\n",
       "</g>\n",
       "<!-- 1&#45;&gt;2 -->\n",
       "<g id=\"edge2\" class=\"edge\">\n",
       "<title>1&#45;&gt;2</title>\n",
       "<path fill=\"none\" stroke=\"black\" d=\"M192.25,-816.88C172.63,-804.68 150.48,-790.9 131.18,-778.9\"/>\n",
       "<polygon fill=\"black\" stroke=\"black\" points=\"132.87,-775.83 122.53,-773.52 129.18,-781.77 132.87,-775.83\"/>\n",
       "</g>\n",
       "<!-- 3 -->\n",
       "<g id=\"node4\" class=\"node\">\n",
       "<title>3</title>\n",
       "<path fill=\"#eda673\" stroke=\"black\" d=\"M306,-773.5C306,-773.5 187,-773.5 187,-773.5 181,-773.5 175,-767.5 175,-761.5 175,-761.5 175,-732.5 175,-732.5 175,-726.5 181,-720.5 187,-720.5 187,-720.5 306,-720.5 306,-720.5 312,-720.5 318,-726.5 318,-732.5 318,-732.5 318,-761.5 318,-761.5 318,-767.5 312,-773.5 306,-773.5\"/>\n",
       "<text text-anchor=\"middle\" x=\"246.5\" y=\"-758.3\" font-family=\"Helvetica,sans-Serif\" font-size=\"14.00\">squared_error = 1.81</text>\n",
       "<text text-anchor=\"middle\" x=\"246.5\" y=\"-743.3\" font-family=\"Helvetica,sans-Serif\" font-size=\"14.00\">samples = 16</text>\n",
       "<text text-anchor=\"middle\" x=\"246.5\" y=\"-728.3\" font-family=\"Helvetica,sans-Serif\" font-size=\"14.00\">value = 12.982</text>\n",
       "</g>\n",
       "<!-- 1&#45;&gt;3 -->\n",
       "<g id=\"edge3\" class=\"edge\">\n",
       "<title>1&#45;&gt;3</title>\n",
       "<path fill=\"none\" stroke=\"black\" d=\"M245.82,-816.88C245.93,-806.33 246.04,-794.6 246.15,-783.85\"/>\n",
       "<polygon fill=\"black\" stroke=\"black\" points=\"249.65,-783.55 246.25,-773.52 242.65,-783.49 249.65,-783.55\"/>\n",
       "</g>\n",
       "<!-- 5 -->\n",
       "<g id=\"node6\" class=\"node\">\n",
       "<title>5</title>\n",
       "<path fill=\"#fae7d9\" stroke=\"black\" d=\"M477,-781C477,-781 350,-781 350,-781 344,-781 338,-775 338,-769 338,-769 338,-725 338,-725 338,-719 344,-713 350,-713 350,-713 477,-713 477,-713 483,-713 489,-719 489,-725 489,-725 489,-769 489,-769 489,-775 483,-781 477,-781\"/>\n",
       "<text text-anchor=\"middle\" x=\"413.5\" y=\"-765.8\" font-family=\"Helvetica,sans-Serif\" font-size=\"14.00\">X &lt;= 0.255</text>\n",
       "<text text-anchor=\"middle\" x=\"413.5\" y=\"-750.8\" font-family=\"Helvetica,sans-Serif\" font-size=\"14.00\">squared_error = 8.993</text>\n",
       "<text text-anchor=\"middle\" x=\"413.5\" y=\"-735.8\" font-family=\"Helvetica,sans-Serif\" font-size=\"14.00\">samples = 133</text>\n",
       "<text text-anchor=\"middle\" x=\"413.5\" y=\"-720.8\" font-family=\"Helvetica,sans-Serif\" font-size=\"14.00\">value = 3.604</text>\n",
       "</g>\n",
       "<!-- 4&#45;&gt;5 -->\n",
       "<g id=\"edge5\" class=\"edge\">\n",
       "<title>4&#45;&gt;5</title>\n",
       "<path fill=\"none\" stroke=\"black\" d=\"M414.18,-816.88C414.1,-808.78 414.01,-799.98 413.93,-791.47\"/>\n",
       "<polygon fill=\"black\" stroke=\"black\" points=\"417.42,-791.26 413.83,-781.3 410.42,-791.33 417.42,-791.26\"/>\n",
       "</g>\n",
       "<!-- 26 -->\n",
       "<g id=\"node27\" class=\"node\">\n",
       "<title>26</title>\n",
       "<path fill=\"#ea995e\" stroke=\"black\" d=\"M646,-781C646,-781 519,-781 519,-781 513,-781 507,-775 507,-769 507,-769 507,-725 507,-725 507,-719 513,-713 519,-713 519,-713 646,-713 646,-713 652,-713 658,-719 658,-725 658,-725 658,-769 658,-769 658,-775 652,-781 646,-781\"/>\n",
       "<text text-anchor=\"middle\" x=\"582.5\" y=\"-765.8\" font-family=\"Helvetica,sans-Serif\" font-size=\"14.00\">X &lt;= 0.916</text>\n",
       "<text text-anchor=\"middle\" x=\"582.5\" y=\"-750.8\" font-family=\"Helvetica,sans-Serif\" font-size=\"14.00\">squared_error = 9.597</text>\n",
       "<text text-anchor=\"middle\" x=\"582.5\" y=\"-735.8\" font-family=\"Helvetica,sans-Serif\" font-size=\"14.00\">samples = 34</text>\n",
       "<text text-anchor=\"middle\" x=\"582.5\" y=\"-720.8\" font-family=\"Helvetica,sans-Serif\" font-size=\"14.00\">value = 14.893</text>\n",
       "</g>\n",
       "<!-- 4&#45;&gt;26 -->\n",
       "<g id=\"edge26\" class=\"edge\">\n",
       "<title>4&#45;&gt;26</title>\n",
       "<path fill=\"none\" stroke=\"black\" d=\"M469.04,-816.88C484.97,-807.21 502.51,-796.56 518.94,-786.59\"/>\n",
       "<polygon fill=\"black\" stroke=\"black\" points=\"521.21,-789.31 527.94,-781.12 517.58,-783.32 521.21,-789.31\"/>\n",
       "</g>\n",
       "<!-- 6 -->\n",
       "<g id=\"node7\" class=\"node\">\n",
       "<title>6</title>\n",
       "<path fill=\"#f4cbad\" stroke=\"black\" d=\"M308,-677C308,-677 181,-677 181,-677 175,-677 169,-671 169,-665 169,-665 169,-621 169,-621 169,-615 175,-609 181,-609 181,-609 308,-609 308,-609 314,-609 320,-615 320,-621 320,-621 320,-665 320,-665 320,-671 314,-677 308,-677\"/>\n",
       "<text text-anchor=\"middle\" x=\"244.5\" y=\"-661.8\" font-family=\"Helvetica,sans-Serif\" font-size=\"14.00\">X &lt;= 0.206</text>\n",
       "<text text-anchor=\"middle\" x=\"244.5\" y=\"-646.8\" font-family=\"Helvetica,sans-Serif\" font-size=\"14.00\">squared_error = 2.544</text>\n",
       "<text text-anchor=\"middle\" x=\"244.5\" y=\"-631.8\" font-family=\"Helvetica,sans-Serif\" font-size=\"14.00\">samples = 24</text>\n",
       "<text text-anchor=\"middle\" x=\"244.5\" y=\"-616.8\" font-family=\"Helvetica,sans-Serif\" font-size=\"14.00\">value = 7.65</text>\n",
       "</g>\n",
       "<!-- 5&#45;&gt;6 -->\n",
       "<g id=\"edge6\" class=\"edge\">\n",
       "<title>5&#45;&gt;6</title>\n",
       "<path fill=\"none\" stroke=\"black\" d=\"M358.63,-712.88C342.46,-703.12 324.64,-692.37 307.97,-682.31\"/>\n",
       "<polygon fill=\"black\" stroke=\"black\" points=\"309.75,-679.3 299.38,-677.12 306.14,-685.29 309.75,-679.3\"/>\n",
       "</g>\n",
       "<!-- 9 -->\n",
       "<g id=\"node10\" class=\"node\">\n",
       "<title>9</title>\n",
       "<path fill=\"#fbede2\" stroke=\"black\" d=\"M477,-677C477,-677 350,-677 350,-677 344,-677 338,-671 338,-665 338,-665 338,-621 338,-621 338,-615 344,-609 350,-609 350,-609 477,-609 477,-609 483,-609 489,-615 489,-621 489,-621 489,-665 489,-665 489,-671 483,-677 477,-677\"/>\n",
       "<text text-anchor=\"middle\" x=\"413.5\" y=\"-661.8\" font-family=\"Helvetica,sans-Serif\" font-size=\"14.00\">X &lt;= 0.72</text>\n",
       "<text text-anchor=\"middle\" x=\"413.5\" y=\"-646.8\" font-family=\"Helvetica,sans-Serif\" font-size=\"14.00\">squared_error = 6.015</text>\n",
       "<text text-anchor=\"middle\" x=\"413.5\" y=\"-631.8\" font-family=\"Helvetica,sans-Serif\" font-size=\"14.00\">samples = 109</text>\n",
       "<text text-anchor=\"middle\" x=\"413.5\" y=\"-616.8\" font-family=\"Helvetica,sans-Serif\" font-size=\"14.00\">value = 2.713</text>\n",
       "</g>\n",
       "<!-- 5&#45;&gt;9 -->\n",
       "<g id=\"edge9\" class=\"edge\">\n",
       "<title>5&#45;&gt;9</title>\n",
       "<path fill=\"none\" stroke=\"black\" d=\"M413.5,-712.88C413.5,-704.78 413.5,-695.98 413.5,-687.47\"/>\n",
       "<polygon fill=\"black\" stroke=\"black\" points=\"417,-687.3 413.5,-677.3 410,-687.3 417,-687.3\"/>\n",
       "</g>\n",
       "<!-- 7 -->\n",
       "<g id=\"node8\" class=\"node\">\n",
       "<title>7</title>\n",
       "<path fill=\"#f2c29e\" stroke=\"black\" d=\"M139,-565.5C139,-565.5 12,-565.5 12,-565.5 6,-565.5 0,-559.5 0,-553.5 0,-553.5 0,-524.5 0,-524.5 0,-518.5 6,-512.5 12,-512.5 12,-512.5 139,-512.5 139,-512.5 145,-512.5 151,-518.5 151,-524.5 151,-524.5 151,-553.5 151,-553.5 151,-559.5 145,-565.5 139,-565.5\"/>\n",
       "<text text-anchor=\"middle\" x=\"75.5\" y=\"-550.3\" font-family=\"Helvetica,sans-Serif\" font-size=\"14.00\">squared_error = 0.683</text>\n",
       "<text text-anchor=\"middle\" x=\"75.5\" y=\"-535.3\" font-family=\"Helvetica,sans-Serif\" font-size=\"14.00\">samples = 13</text>\n",
       "<text text-anchor=\"middle\" x=\"75.5\" y=\"-520.3\" font-family=\"Helvetica,sans-Serif\" font-size=\"14.00\">value = 8.967</text>\n",
       "</g>\n",
       "<!-- 6&#45;&gt;7 -->\n",
       "<g id=\"edge7\" class=\"edge\">\n",
       "<title>6&#45;&gt;7</title>\n",
       "<path fill=\"none\" stroke=\"black\" d=\"M189.63,-608.88C169.31,-596.62 146.38,-582.78 126.43,-570.74\"/>\n",
       "<polygon fill=\"black\" stroke=\"black\" points=\"128.15,-567.69 117.78,-565.52 124.54,-573.68 128.15,-567.69\"/>\n",
       "</g>\n",
       "<!-- 8 -->\n",
       "<g id=\"node9\" class=\"node\">\n",
       "<title>8</title>\n",
       "<path fill=\"#f6d5be\" stroke=\"black\" d=\"M308,-565.5C308,-565.5 181,-565.5 181,-565.5 175,-565.5 169,-559.5 169,-553.5 169,-553.5 169,-524.5 169,-524.5 169,-518.5 175,-512.5 181,-512.5 181,-512.5 308,-512.5 308,-512.5 314,-512.5 320,-518.5 320,-524.5 320,-524.5 320,-553.5 320,-553.5 320,-559.5 314,-565.5 308,-565.5\"/>\n",
       "<text text-anchor=\"middle\" x=\"244.5\" y=\"-550.3\" font-family=\"Helvetica,sans-Serif\" font-size=\"14.00\">squared_error = 0.268</text>\n",
       "<text text-anchor=\"middle\" x=\"244.5\" y=\"-535.3\" font-family=\"Helvetica,sans-Serif\" font-size=\"14.00\">samples = 11</text>\n",
       "<text text-anchor=\"middle\" x=\"244.5\" y=\"-520.3\" font-family=\"Helvetica,sans-Serif\" font-size=\"14.00\">value = 6.093</text>\n",
       "</g>\n",
       "<!-- 6&#45;&gt;8 -->\n",
       "<g id=\"edge8\" class=\"edge\">\n",
       "<title>6&#45;&gt;8</title>\n",
       "<path fill=\"none\" stroke=\"black\" d=\"M244.5,-608.88C244.5,-598.33 244.5,-586.6 244.5,-575.85\"/>\n",
       "<polygon fill=\"black\" stroke=\"black\" points=\"248,-575.52 244.5,-565.52 241,-575.52 248,-575.52\"/>\n",
       "</g>\n",
       "<!-- 10 -->\n",
       "<g id=\"node11\" class=\"node\">\n",
       "<title>10</title>\n",
       "<path fill=\"#fdf4ed\" stroke=\"black\" d=\"M477,-573C477,-573 350,-573 350,-573 344,-573 338,-567 338,-561 338,-561 338,-517 338,-517 338,-511 344,-505 350,-505 350,-505 477,-505 477,-505 483,-505 489,-511 489,-517 489,-517 489,-561 489,-561 489,-567 483,-573 477,-573\"/>\n",
       "<text text-anchor=\"middle\" x=\"413.5\" y=\"-557.8\" font-family=\"Helvetica,sans-Serif\" font-size=\"14.00\">X &lt;= 0.334</text>\n",
       "<text text-anchor=\"middle\" x=\"413.5\" y=\"-542.8\" font-family=\"Helvetica,sans-Serif\" font-size=\"14.00\">squared_error = 2.017</text>\n",
       "<text text-anchor=\"middle\" x=\"413.5\" y=\"-527.8\" font-family=\"Helvetica,sans-Serif\" font-size=\"14.00\">samples = 87</text>\n",
       "<text text-anchor=\"middle\" x=\"413.5\" y=\"-512.8\" font-family=\"Helvetica,sans-Serif\" font-size=\"14.00\">value = 1.713</text>\n",
       "</g>\n",
       "<!-- 9&#45;&gt;10 -->\n",
       "<g id=\"edge10\" class=\"edge\">\n",
       "<title>9&#45;&gt;10</title>\n",
       "<path fill=\"none\" stroke=\"black\" d=\"M413.5,-608.88C413.5,-600.78 413.5,-591.98 413.5,-583.47\"/>\n",
       "<polygon fill=\"black\" stroke=\"black\" points=\"417,-583.3 413.5,-573.3 410,-583.3 417,-583.3\"/>\n",
       "</g>\n",
       "<!-- 23 -->\n",
       "<g id=\"node24\" class=\"node\">\n",
       "<title>23</title>\n",
       "<path fill=\"#f6d1b7\" stroke=\"black\" d=\"M646,-573C646,-573 519,-573 519,-573 513,-573 507,-567 507,-561 507,-561 507,-517 507,-517 507,-511 513,-505 519,-505 519,-505 646,-505 646,-505 652,-505 658,-511 658,-517 658,-517 658,-561 658,-561 658,-567 652,-573 646,-573\"/>\n",
       "<text text-anchor=\"middle\" x=\"582.5\" y=\"-557.8\" font-family=\"Helvetica,sans-Serif\" font-size=\"14.00\">X &lt;= 0.778</text>\n",
       "<text text-anchor=\"middle\" x=\"582.5\" y=\"-542.8\" font-family=\"Helvetica,sans-Serif\" font-size=\"14.00\">squared_error = 2.247</text>\n",
       "<text text-anchor=\"middle\" x=\"582.5\" y=\"-527.8\" font-family=\"Helvetica,sans-Serif\" font-size=\"14.00\">samples = 22</text>\n",
       "<text text-anchor=\"middle\" x=\"582.5\" y=\"-512.8\" font-family=\"Helvetica,sans-Serif\" font-size=\"14.00\">value = 6.666</text>\n",
       "</g>\n",
       "<!-- 9&#45;&gt;23 -->\n",
       "<g id=\"edge23\" class=\"edge\">\n",
       "<title>9&#45;&gt;23</title>\n",
       "<path fill=\"none\" stroke=\"black\" d=\"M468.37,-608.88C484.54,-599.12 502.36,-588.37 519.03,-578.31\"/>\n",
       "<polygon fill=\"black\" stroke=\"black\" points=\"520.86,-581.29 527.62,-573.12 517.25,-575.3 520.86,-581.29\"/>\n",
       "</g>\n",
       "<!-- 11 -->\n",
       "<g id=\"node12\" class=\"node\">\n",
       "<title>11</title>\n",
       "<path fill=\"#fae8da\" stroke=\"black\" d=\"M308,-469C308,-469 181,-469 181,-469 175,-469 169,-463 169,-457 169,-457 169,-413 169,-413 169,-407 175,-401 181,-401 181,-401 308,-401 308,-401 314,-401 320,-407 320,-413 320,-413 320,-457 320,-457 320,-463 314,-469 308,-469\"/>\n",
       "<text text-anchor=\"middle\" x=\"244.5\" y=\"-453.8\" font-family=\"Helvetica,sans-Serif\" font-size=\"14.00\">X &lt;= 0.303</text>\n",
       "<text text-anchor=\"middle\" x=\"244.5\" y=\"-438.8\" font-family=\"Helvetica,sans-Serif\" font-size=\"14.00\">squared_error = 0.542</text>\n",
       "<text text-anchor=\"middle\" x=\"244.5\" y=\"-423.8\" font-family=\"Helvetica,sans-Serif\" font-size=\"14.00\">samples = 21</text>\n",
       "<text text-anchor=\"middle\" x=\"244.5\" y=\"-408.8\" font-family=\"Helvetica,sans-Serif\" font-size=\"14.00\">value = 3.478</text>\n",
       "</g>\n",
       "<!-- 10&#45;&gt;11 -->\n",
       "<g id=\"edge11\" class=\"edge\">\n",
       "<title>10&#45;&gt;11</title>\n",
       "<path fill=\"none\" stroke=\"black\" d=\"M358.63,-504.88C342.46,-495.12 324.64,-484.37 307.97,-474.31\"/>\n",
       "<polygon fill=\"black\" stroke=\"black\" points=\"309.75,-471.3 299.38,-469.12 306.14,-477.29 309.75,-471.3\"/>\n",
       "</g>\n",
       "<!-- 14 -->\n",
       "<g id=\"node15\" class=\"node\">\n",
       "<title>14</title>\n",
       "<path fill=\"#fdf8f3\" stroke=\"black\" d=\"M477,-469C477,-469 350,-469 350,-469 344,-469 338,-463 338,-457 338,-457 338,-413 338,-413 338,-407 344,-401 350,-401 350,-401 477,-401 477,-401 483,-401 489,-407 489,-413 489,-413 489,-457 489,-457 489,-463 483,-469 477,-469\"/>\n",
       "<text text-anchor=\"middle\" x=\"413.5\" y=\"-453.8\" font-family=\"Helvetica,sans-Serif\" font-size=\"14.00\">X &lt;= 0.641</text>\n",
       "<text text-anchor=\"middle\" x=\"413.5\" y=\"-438.8\" font-family=\"Helvetica,sans-Serif\" font-size=\"14.00\">squared_error = 1.181</text>\n",
       "<text text-anchor=\"middle\" x=\"413.5\" y=\"-423.8\" font-family=\"Helvetica,sans-Serif\" font-size=\"14.00\">samples = 66</text>\n",
       "<text text-anchor=\"middle\" x=\"413.5\" y=\"-408.8\" font-family=\"Helvetica,sans-Serif\" font-size=\"14.00\">value = 1.152</text>\n",
       "</g>\n",
       "<!-- 10&#45;&gt;14 -->\n",
       "<g id=\"edge14\" class=\"edge\">\n",
       "<title>10&#45;&gt;14</title>\n",
       "<path fill=\"none\" stroke=\"black\" d=\"M413.5,-504.88C413.5,-496.78 413.5,-487.98 413.5,-479.47\"/>\n",
       "<polygon fill=\"black\" stroke=\"black\" points=\"417,-479.3 413.5,-469.3 410,-479.3 417,-479.3\"/>\n",
       "</g>\n",
       "<!-- 12 -->\n",
       "<g id=\"node13\" class=\"node\">\n",
       "<title>12</title>\n",
       "<path fill=\"#f9e3d3\" stroke=\"black\" d=\"M139,-357.5C139,-357.5 12,-357.5 12,-357.5 6,-357.5 0,-351.5 0,-345.5 0,-345.5 0,-316.5 0,-316.5 0,-310.5 6,-304.5 12,-304.5 12,-304.5 139,-304.5 139,-304.5 145,-304.5 151,-310.5 151,-316.5 151,-316.5 151,-345.5 151,-345.5 151,-351.5 145,-357.5 139,-357.5\"/>\n",
       "<text text-anchor=\"middle\" x=\"75.5\" y=\"-342.3\" font-family=\"Helvetica,sans-Serif\" font-size=\"14.00\">squared_error = 0.294</text>\n",
       "<text text-anchor=\"middle\" x=\"75.5\" y=\"-327.3\" font-family=\"Helvetica,sans-Serif\" font-size=\"14.00\">samples = 10</text>\n",
       "<text text-anchor=\"middle\" x=\"75.5\" y=\"-312.3\" font-family=\"Helvetica,sans-Serif\" font-size=\"14.00\">value = 4.124</text>\n",
       "</g>\n",
       "<!-- 11&#45;&gt;12 -->\n",
       "<g id=\"edge12\" class=\"edge\">\n",
       "<title>11&#45;&gt;12</title>\n",
       "<path fill=\"none\" stroke=\"black\" d=\"M189.63,-400.88C169.31,-388.62 146.38,-374.78 126.43,-362.74\"/>\n",
       "<polygon fill=\"black\" stroke=\"black\" points=\"128.15,-359.69 117.78,-357.52 124.54,-365.68 128.15,-359.69\"/>\n",
       "</g>\n",
       "<!-- 13 -->\n",
       "<g id=\"node14\" class=\"node\">\n",
       "<title>13</title>\n",
       "<path fill=\"#fbece0\" stroke=\"black\" d=\"M308,-357.5C308,-357.5 181,-357.5 181,-357.5 175,-357.5 169,-351.5 169,-345.5 169,-345.5 169,-316.5 169,-316.5 169,-310.5 175,-304.5 181,-304.5 181,-304.5 308,-304.5 308,-304.5 314,-304.5 320,-310.5 320,-316.5 320,-316.5 320,-345.5 320,-345.5 320,-351.5 314,-357.5 308,-357.5\"/>\n",
       "<text text-anchor=\"middle\" x=\"244.5\" y=\"-342.3\" font-family=\"Helvetica,sans-Serif\" font-size=\"14.00\">squared_error = 0.041</text>\n",
       "<text text-anchor=\"middle\" x=\"244.5\" y=\"-327.3\" font-family=\"Helvetica,sans-Serif\" font-size=\"14.00\">samples = 11</text>\n",
       "<text text-anchor=\"middle\" x=\"244.5\" y=\"-312.3\" font-family=\"Helvetica,sans-Serif\" font-size=\"14.00\">value = 2.89</text>\n",
       "</g>\n",
       "<!-- 11&#45;&gt;13 -->\n",
       "<g id=\"edge13\" class=\"edge\">\n",
       "<title>11&#45;&gt;13</title>\n",
       "<path fill=\"none\" stroke=\"black\" d=\"M244.5,-400.88C244.5,-390.33 244.5,-378.6 244.5,-367.85\"/>\n",
       "<polygon fill=\"black\" stroke=\"black\" points=\"248,-367.52 244.5,-357.52 241,-367.52 248,-367.52\"/>\n",
       "</g>\n",
       "<!-- 15 -->\n",
       "<g id=\"node16\" class=\"node\">\n",
       "<title>15</title>\n",
       "<path fill=\"#fefaf7\" stroke=\"black\" d=\"M477,-365C477,-365 350,-365 350,-365 344,-365 338,-359 338,-353 338,-353 338,-309 338,-309 338,-303 344,-297 350,-297 350,-297 477,-297 477,-297 483,-297 489,-303 489,-309 489,-309 489,-353 489,-353 489,-359 483,-365 477,-365\"/>\n",
       "<text text-anchor=\"middle\" x=\"413.5\" y=\"-349.8\" font-family=\"Helvetica,sans-Serif\" font-size=\"14.00\">X &lt;= 0.4</text>\n",
       "<text text-anchor=\"middle\" x=\"413.5\" y=\"-334.8\" font-family=\"Helvetica,sans-Serif\" font-size=\"14.00\">squared_error = 0.514</text>\n",
       "<text text-anchor=\"middle\" x=\"413.5\" y=\"-319.8\" font-family=\"Helvetica,sans-Serif\" font-size=\"14.00\">samples = 55</text>\n",
       "<text text-anchor=\"middle\" x=\"413.5\" y=\"-304.8\" font-family=\"Helvetica,sans-Serif\" font-size=\"14.00\">value = 0.784</text>\n",
       "</g>\n",
       "<!-- 14&#45;&gt;15 -->\n",
       "<g id=\"edge15\" class=\"edge\">\n",
       "<title>14&#45;&gt;15</title>\n",
       "<path fill=\"none\" stroke=\"black\" d=\"M413.5,-400.88C413.5,-392.78 413.5,-383.98 413.5,-375.47\"/>\n",
       "<polygon fill=\"black\" stroke=\"black\" points=\"417,-375.3 413.5,-365.3 410,-375.3 417,-375.3\"/>\n",
       "</g>\n",
       "<!-- 22 -->\n",
       "<g id=\"node23\" class=\"node\">\n",
       "<title>22</title>\n",
       "<path fill=\"#fbebdf\" stroke=\"black\" d=\"M646,-357.5C646,-357.5 519,-357.5 519,-357.5 513,-357.5 507,-351.5 507,-345.5 507,-345.5 507,-316.5 507,-316.5 507,-310.5 513,-304.5 519,-304.5 519,-304.5 646,-304.5 646,-304.5 652,-304.5 658,-310.5 658,-316.5 658,-316.5 658,-345.5 658,-345.5 658,-351.5 652,-357.5 646,-357.5\"/>\n",
       "<text text-anchor=\"middle\" x=\"582.5\" y=\"-342.3\" font-family=\"Helvetica,sans-Serif\" font-size=\"14.00\">squared_error = 0.464</text>\n",
       "<text text-anchor=\"middle\" x=\"582.5\" y=\"-327.3\" font-family=\"Helvetica,sans-Serif\" font-size=\"14.00\">samples = 11</text>\n",
       "<text text-anchor=\"middle\" x=\"582.5\" y=\"-312.3\" font-family=\"Helvetica,sans-Serif\" font-size=\"14.00\">value = 2.99</text>\n",
       "</g>\n",
       "<!-- 14&#45;&gt;22 -->\n",
       "<g id=\"edge22\" class=\"edge\">\n",
       "<title>14&#45;&gt;22</title>\n",
       "<path fill=\"none\" stroke=\"black\" d=\"M468.37,-400.88C488.69,-388.62 511.62,-374.78 531.57,-362.74\"/>\n",
       "<polygon fill=\"black\" stroke=\"black\" points=\"533.46,-365.68 540.22,-357.52 529.85,-359.69 533.46,-365.68\"/>\n",
       "</g>\n",
       "<!-- 16 -->\n",
       "<g id=\"node17\" class=\"node\">\n",
       "<title>16</title>\n",
       "<path fill=\"#fdf4ee\" stroke=\"black\" d=\"M391.5,-253.5C391.5,-253.5 265.5,-253.5 265.5,-253.5 259.5,-253.5 253.5,-247.5 253.5,-241.5 253.5,-241.5 253.5,-212.5 253.5,-212.5 253.5,-206.5 259.5,-200.5 265.5,-200.5 265.5,-200.5 391.5,-200.5 391.5,-200.5 397.5,-200.5 403.5,-206.5 403.5,-212.5 403.5,-212.5 403.5,-241.5 403.5,-241.5 403.5,-247.5 397.5,-253.5 391.5,-253.5\"/>\n",
       "<text text-anchor=\"middle\" x=\"328.5\" y=\"-238.3\" font-family=\"Helvetica,sans-Serif\" font-size=\"14.00\">squared_error = 0.112</text>\n",
       "<text text-anchor=\"middle\" x=\"328.5\" y=\"-223.3\" font-family=\"Helvetica,sans-Serif\" font-size=\"14.00\">samples = 12</text>\n",
       "<text text-anchor=\"middle\" x=\"328.5\" y=\"-208.3\" font-family=\"Helvetica,sans-Serif\" font-size=\"14.00\">value = 1.682</text>\n",
       "</g>\n",
       "<!-- 15&#45;&gt;16 -->\n",
       "<g id=\"edge16\" class=\"edge\">\n",
       "<title>15&#45;&gt;16</title>\n",
       "<path fill=\"none\" stroke=\"black\" d=\"M385.9,-296.88C376.46,-285.56 365.9,-272.88 356.43,-261.52\"/>\n",
       "<polygon fill=\"black\" stroke=\"black\" points=\"358.86,-258.96 349.77,-253.52 353.48,-263.44 358.86,-258.96\"/>\n",
       "</g>\n",
       "<!-- 17 -->\n",
       "<g id=\"node18\" class=\"node\">\n",
       "<title>17</title>\n",
       "<path fill=\"#fefcfa\" stroke=\"black\" d=\"M561,-261C561,-261 434,-261 434,-261 428,-261 422,-255 422,-249 422,-249 422,-205 422,-205 422,-199 428,-193 434,-193 434,-193 561,-193 561,-193 567,-193 573,-199 573,-205 573,-205 573,-249 573,-249 573,-255 567,-261 561,-261\"/>\n",
       "<text text-anchor=\"middle\" x=\"497.5\" y=\"-245.8\" font-family=\"Helvetica,sans-Serif\" font-size=\"14.00\">X &lt;= 0.576</text>\n",
       "<text text-anchor=\"middle\" x=\"497.5\" y=\"-230.8\" font-family=\"Helvetica,sans-Serif\" font-size=\"14.00\">squared_error = 0.339</text>\n",
       "<text text-anchor=\"middle\" x=\"497.5\" y=\"-215.8\" font-family=\"Helvetica,sans-Serif\" font-size=\"14.00\">samples = 43</text>\n",
       "<text text-anchor=\"middle\" x=\"497.5\" y=\"-200.8\" font-family=\"Helvetica,sans-Serif\" font-size=\"14.00\">value = 0.534</text>\n",
       "</g>\n",
       "<!-- 15&#45;&gt;17 -->\n",
       "<g id=\"edge17\" class=\"edge\">\n",
       "<title>15&#45;&gt;17</title>\n",
       "<path fill=\"none\" stroke=\"black\" d=\"M440.77,-296.88C448.03,-288.07 455.97,-278.43 463.54,-269.24\"/>\n",
       "<polygon fill=\"black\" stroke=\"black\" points=\"466.42,-271.24 470.08,-261.3 461.02,-266.79 466.42,-271.24\"/>\n",
       "</g>\n",
       "<!-- 18 -->\n",
       "<g id=\"node19\" class=\"node\">\n",
       "<title>18</title>\n",
       "<path fill=\"#fffefe\" stroke=\"black\" d=\"M477,-157C477,-157 350,-157 350,-157 344,-157 338,-151 338,-145 338,-145 338,-101 338,-101 338,-95 344,-89 350,-89 350,-89 477,-89 477,-89 483,-89 489,-95 489,-101 489,-101 489,-145 489,-145 489,-151 483,-157 477,-157\"/>\n",
       "<text text-anchor=\"middle\" x=\"413.5\" y=\"-141.8\" font-family=\"Helvetica,sans-Serif\" font-size=\"14.00\">X &lt;= 0.494</text>\n",
       "<text text-anchor=\"middle\" x=\"413.5\" y=\"-126.8\" font-family=\"Helvetica,sans-Serif\" font-size=\"14.00\">squared_error = 0.051</text>\n",
       "<text text-anchor=\"middle\" x=\"413.5\" y=\"-111.8\" font-family=\"Helvetica,sans-Serif\" font-size=\"14.00\">samples = 28</text>\n",
       "<text text-anchor=\"middle\" x=\"413.5\" y=\"-96.8\" font-family=\"Helvetica,sans-Serif\" font-size=\"14.00\">value = 0.165</text>\n",
       "</g>\n",
       "<!-- 17&#45;&gt;18 -->\n",
       "<g id=\"edge18\" class=\"edge\">\n",
       "<title>17&#45;&gt;18</title>\n",
       "<path fill=\"none\" stroke=\"black\" d=\"M470.23,-192.88C462.97,-184.07 455.03,-174.43 447.46,-165.24\"/>\n",
       "<polygon fill=\"black\" stroke=\"black\" points=\"449.98,-162.79 440.92,-157.3 444.58,-167.24 449.98,-162.79\"/>\n",
       "</g>\n",
       "<!-- 21 -->\n",
       "<g id=\"node22\" class=\"node\">\n",
       "<title>21</title>\n",
       "<path fill=\"#fdf7f3\" stroke=\"black\" d=\"M646,-149.5C646,-149.5 519,-149.5 519,-149.5 513,-149.5 507,-143.5 507,-137.5 507,-137.5 507,-108.5 507,-108.5 507,-102.5 513,-96.5 519,-96.5 519,-96.5 646,-96.5 646,-96.5 652,-96.5 658,-102.5 658,-108.5 658,-108.5 658,-137.5 658,-137.5 658,-143.5 652,-149.5 646,-149.5\"/>\n",
       "<text text-anchor=\"middle\" x=\"582.5\" y=\"-134.3\" font-family=\"Helvetica,sans-Serif\" font-size=\"14.00\">squared_error = 0.147</text>\n",
       "<text text-anchor=\"middle\" x=\"582.5\" y=\"-119.3\" font-family=\"Helvetica,sans-Serif\" font-size=\"14.00\">samples = 15</text>\n",
       "<text text-anchor=\"middle\" x=\"582.5\" y=\"-104.3\" font-family=\"Helvetica,sans-Serif\" font-size=\"14.00\">value = 1.223</text>\n",
       "</g>\n",
       "<!-- 17&#45;&gt;21 -->\n",
       "<g id=\"edge21\" class=\"edge\">\n",
       "<title>17&#45;&gt;21</title>\n",
       "<path fill=\"none\" stroke=\"black\" d=\"M525.1,-192.88C534.54,-181.56 545.1,-168.88 554.57,-157.52\"/>\n",
       "<polygon fill=\"black\" stroke=\"black\" points=\"557.52,-159.44 561.23,-149.52 552.14,-154.96 557.52,-159.44\"/>\n",
       "</g>\n",
       "<!-- 19 -->\n",
       "<g id=\"node20\" class=\"node\">\n",
       "<title>19</title>\n",
       "<path fill=\"#fffdfc\" stroke=\"black\" d=\"M393,-53C393,-53 266,-53 266,-53 260,-53 254,-47 254,-41 254,-41 254,-12 254,-12 254,-6 260,0 266,0 266,0 393,0 393,0 399,0 405,-6 405,-12 405,-12 405,-41 405,-41 405,-47 399,-53 393,-53\"/>\n",
       "<text text-anchor=\"middle\" x=\"329.5\" y=\"-37.8\" font-family=\"Helvetica,sans-Serif\" font-size=\"14.00\">squared_error = 0.073</text>\n",
       "<text text-anchor=\"middle\" x=\"329.5\" y=\"-22.8\" font-family=\"Helvetica,sans-Serif\" font-size=\"14.00\">samples = 10</text>\n",
       "<text text-anchor=\"middle\" x=\"329.5\" y=\"-7.8\" font-family=\"Helvetica,sans-Serif\" font-size=\"14.00\">value = 0.328</text>\n",
       "</g>\n",
       "<!-- 18&#45;&gt;19 -->\n",
       "<g id=\"edge19\" class=\"edge\">\n",
       "<title>18&#45;&gt;19</title>\n",
       "<path fill=\"none\" stroke=\"black\" d=\"M384.12,-88.95C375.99,-79.8 367.16,-69.87 359.02,-60.71\"/>\n",
       "<polygon fill=\"black\" stroke=\"black\" points=\"361.64,-58.39 352.38,-53.24 356.4,-63.04 361.64,-58.39\"/>\n",
       "</g>\n",
       "<!-- 20 -->\n",
       "<g id=\"node21\" class=\"node\">\n",
       "<title>20</title>\n",
       "<path fill=\"#ffffff\" stroke=\"black\" d=\"M562,-53C562,-53 435,-53 435,-53 429,-53 423,-47 423,-41 423,-41 423,-12 423,-12 423,-6 429,0 435,0 435,0 562,0 562,0 568,0 574,-6 574,-12 574,-12 574,-41 574,-41 574,-47 568,-53 562,-53\"/>\n",
       "<text text-anchor=\"middle\" x=\"498.5\" y=\"-37.8\" font-family=\"Helvetica,sans-Serif\" font-size=\"14.00\">squared_error = 0.016</text>\n",
       "<text text-anchor=\"middle\" x=\"498.5\" y=\"-22.8\" font-family=\"Helvetica,sans-Serif\" font-size=\"14.00\">samples = 18</text>\n",
       "<text text-anchor=\"middle\" x=\"498.5\" y=\"-7.8\" font-family=\"Helvetica,sans-Serif\" font-size=\"14.00\">value = 0.075</text>\n",
       "</g>\n",
       "<!-- 18&#45;&gt;20 -->\n",
       "<g id=\"edge20\" class=\"edge\">\n",
       "<title>18&#45;&gt;20</title>\n",
       "<path fill=\"none\" stroke=\"black\" d=\"M443.23,-88.95C451.46,-79.8 460.39,-69.87 468.63,-60.71\"/>\n",
       "<polygon fill=\"black\" stroke=\"black\" points=\"471.27,-63.01 475.35,-53.24 466.06,-58.33 471.27,-63.01\"/>\n",
       "</g>\n",
       "<!-- 24 -->\n",
       "<g id=\"node25\" class=\"node\">\n",
       "<title>24</title>\n",
       "<path fill=\"#f7dac4\" stroke=\"black\" d=\"M646,-461.5C646,-461.5 519,-461.5 519,-461.5 513,-461.5 507,-455.5 507,-449.5 507,-449.5 507,-420.5 507,-420.5 507,-414.5 513,-408.5 519,-408.5 519,-408.5 646,-408.5 646,-408.5 652,-408.5 658,-414.5 658,-420.5 658,-420.5 658,-449.5 658,-449.5 658,-455.5 652,-461.5 646,-461.5\"/>\n",
       "<text text-anchor=\"middle\" x=\"582.5\" y=\"-446.3\" font-family=\"Helvetica,sans-Serif\" font-size=\"14.00\">squared_error = 0.734</text>\n",
       "<text text-anchor=\"middle\" x=\"582.5\" y=\"-431.3\" font-family=\"Helvetica,sans-Serif\" font-size=\"14.00\">samples = 12</text>\n",
       "<text text-anchor=\"middle\" x=\"582.5\" y=\"-416.3\" font-family=\"Helvetica,sans-Serif\" font-size=\"14.00\">value = 5.482</text>\n",
       "</g>\n",
       "<!-- 23&#45;&gt;24 -->\n",
       "<g id=\"edge24\" class=\"edge\">\n",
       "<title>23&#45;&gt;24</title>\n",
       "<path fill=\"none\" stroke=\"black\" d=\"M582.5,-504.88C582.5,-494.33 582.5,-482.6 582.5,-471.85\"/>\n",
       "<polygon fill=\"black\" stroke=\"black\" points=\"586,-471.52 582.5,-461.52 579,-471.52 586,-471.52\"/>\n",
       "</g>\n",
       "<!-- 25 -->\n",
       "<g id=\"node26\" class=\"node\">\n",
       "<title>25</title>\n",
       "<path fill=\"#f4c8a8\" stroke=\"black\" d=\"M815,-461.5C815,-461.5 688,-461.5 688,-461.5 682,-461.5 676,-455.5 676,-449.5 676,-449.5 676,-420.5 676,-420.5 676,-414.5 682,-408.5 688,-408.5 688,-408.5 815,-408.5 815,-408.5 821,-408.5 827,-414.5 827,-420.5 827,-420.5 827,-449.5 827,-449.5 827,-455.5 821,-461.5 815,-461.5\"/>\n",
       "<text text-anchor=\"middle\" x=\"751.5\" y=\"-446.3\" font-family=\"Helvetica,sans-Serif\" font-size=\"14.00\">squared_error = 0.358</text>\n",
       "<text text-anchor=\"middle\" x=\"751.5\" y=\"-431.3\" font-family=\"Helvetica,sans-Serif\" font-size=\"14.00\">samples = 10</text>\n",
       "<text text-anchor=\"middle\" x=\"751.5\" y=\"-416.3\" font-family=\"Helvetica,sans-Serif\" font-size=\"14.00\">value = 8.088</text>\n",
       "</g>\n",
       "<!-- 23&#45;&gt;25 -->\n",
       "<g id=\"edge25\" class=\"edge\">\n",
       "<title>23&#45;&gt;25</title>\n",
       "<path fill=\"none\" stroke=\"black\" d=\"M637.37,-504.88C657.69,-492.62 680.62,-478.78 700.57,-466.74\"/>\n",
       "<polygon fill=\"black\" stroke=\"black\" points=\"702.46,-469.68 709.22,-461.52 698.85,-463.69 702.46,-469.68\"/>\n",
       "</g>\n",
       "<!-- 27 -->\n",
       "<g id=\"node28\" class=\"node\">\n",
       "<title>27</title>\n",
       "<path fill=\"#eda978\" stroke=\"black\" d=\"M646,-669.5C646,-669.5 519,-669.5 519,-669.5 513,-669.5 507,-663.5 507,-657.5 507,-657.5 507,-628.5 507,-628.5 507,-622.5 513,-616.5 519,-616.5 519,-616.5 646,-616.5 646,-616.5 652,-616.5 658,-622.5 658,-628.5 658,-628.5 658,-657.5 658,-657.5 658,-663.5 652,-669.5 646,-669.5\"/>\n",
       "<text text-anchor=\"middle\" x=\"582.5\" y=\"-654.3\" font-family=\"Helvetica,sans-Serif\" font-size=\"14.00\">squared_error = 2.625</text>\n",
       "<text text-anchor=\"middle\" x=\"582.5\" y=\"-639.3\" font-family=\"Helvetica,sans-Serif\" font-size=\"14.00\">samples = 19</text>\n",
       "<text text-anchor=\"middle\" x=\"582.5\" y=\"-624.3\" font-family=\"Helvetica,sans-Serif\" font-size=\"14.00\">value = 12.54</text>\n",
       "</g>\n",
       "<!-- 26&#45;&gt;27 -->\n",
       "<g id=\"edge27\" class=\"edge\">\n",
       "<title>26&#45;&gt;27</title>\n",
       "<path fill=\"none\" stroke=\"black\" d=\"M582.5,-712.88C582.5,-702.33 582.5,-690.6 582.5,-679.85\"/>\n",
       "<polygon fill=\"black\" stroke=\"black\" points=\"586,-679.52 582.5,-669.52 579,-679.52 586,-679.52\"/>\n",
       "</g>\n",
       "<!-- 28 -->\n",
       "<g id=\"node29\" class=\"node\">\n",
       "<title>28</title>\n",
       "<path fill=\"#e6843e\" stroke=\"black\" d=\"M807,-669.5C807,-669.5 688,-669.5 688,-669.5 682,-669.5 676,-663.5 676,-657.5 676,-657.5 676,-628.5 676,-628.5 676,-622.5 682,-616.5 688,-616.5 688,-616.5 807,-616.5 807,-616.5 813,-616.5 819,-622.5 819,-628.5 819,-628.5 819,-657.5 819,-657.5 819,-663.5 813,-669.5 807,-669.5\"/>\n",
       "<text text-anchor=\"middle\" x=\"747.5\" y=\"-654.3\" font-family=\"Helvetica,sans-Serif\" font-size=\"14.00\">squared_error = 2.54</text>\n",
       "<text text-anchor=\"middle\" x=\"747.5\" y=\"-639.3\" font-family=\"Helvetica,sans-Serif\" font-size=\"14.00\">samples = 15</text>\n",
       "<text text-anchor=\"middle\" x=\"747.5\" y=\"-624.3\" font-family=\"Helvetica,sans-Serif\" font-size=\"14.00\">value = 17.873</text>\n",
       "</g>\n",
       "<!-- 26&#45;&gt;28 -->\n",
       "<g id=\"edge28\" class=\"edge\">\n",
       "<title>26&#45;&gt;28</title>\n",
       "<path fill=\"none\" stroke=\"black\" d=\"M636.07,-712.88C655.82,-700.68 678.1,-686.9 697.52,-674.9\"/>\n",
       "<polygon fill=\"black\" stroke=\"black\" points=\"699.55,-677.76 706.22,-669.52 695.87,-671.8 699.55,-677.76\"/>\n",
       "</g>\n",
       "</g>\n",
       "</svg>\n"
      ],
      "text/plain": [
       "<graphviz.sources.Source at 0x1428b00e440>"
      ]
     },
     "execution_count": 28,
     "metadata": {},
     "output_type": "execute_result"
    }
   ],
   "source": [
    "from graphviz import Source\n",
    "from sklearn .tree import export_graphviz\n",
    "export_graphviz(\n",
    "    tree_reg,\n",
    "    out_file='decision_tree.dot',\n",
    "    feature_names=['X'],\n",
    "    class_names=['y'],\n",
    "    rounded=True,\n",
    "    filled=True\n",
    ")\n",
    "#화면출력\n",
    "with open('decision_tree.dot')as f:\n",
    "    dot_graph=f.read()\n",
    "src=Source(dot_graph)\n",
    "src"
   ]
  },
  {
   "cell_type": "markdown",
   "id": "2cb899e9",
   "metadata": {},
   "source": [
    "### SVM 을 이용한 회귀"
   ]
  },
  {
   "cell_type": "code",
   "execution_count": 29,
   "id": "dc8ae387",
   "metadata": {},
   "outputs": [
    {
     "name": "stdout",
     "output_type": "stream",
     "text": [
      "[ 6.986  9.876  8.276  7.291  3.458  4.216  3.888 10.254  7.95   6.485\n",
      "  4.448  9.434  8.318  5.886  6.122  6.032  4.986  6.839  6.923  6.723\n",
      "  7.192  4.651  4.647  5.002  7.549 10.067  5.126  8.089  7.916  3.634\n",
      "  8.007  6.561  4.354 11.258  7.174  9.672  5.915  4.287  8.197  4.653\n",
      "  4.513  7.328  5.684  8.938  4.744  7.473  6.786  7.449  6.751  5.622]\n"
     ]
    }
   ],
   "source": [
    "np.random.seed(42)\n",
    "m=50\n",
    "X=2*np.random.rand(m,1)\n",
    "#ravel은 차원을 하나 줄이는 역할을 수행해주는 함수\n",
    "# X 떄문에 2차원 배열로 만들어지는 타겟은 \n",
    "# 1차원이어야 하기 때문에 차원을 수정\n",
    "# flatten이나 reshape도 가능합니다.\n",
    "# flatten()\n",
    "# reshape는 데이터의 개수를 알아야 한다.\n",
    "y=(4+3*X+np.random.randn(m,1)).ravel()\n",
    "print(y)"
   ]
  },
  {
   "cell_type": "code",
   "execution_count": 30,
   "id": "e5b2960b",
   "metadata": {},
   "outputs": [
    {
     "data": {
      "text/html": [
       "<style>#sk-container-id-5 {color: black;background-color: white;}#sk-container-id-5 pre{padding: 0;}#sk-container-id-5 div.sk-toggleable {background-color: white;}#sk-container-id-5 label.sk-toggleable__label {cursor: pointer;display: block;width: 100%;margin-bottom: 0;padding: 0.3em;box-sizing: border-box;text-align: center;}#sk-container-id-5 label.sk-toggleable__label-arrow:before {content: \"▸\";float: left;margin-right: 0.25em;color: #696969;}#sk-container-id-5 label.sk-toggleable__label-arrow:hover:before {color: black;}#sk-container-id-5 div.sk-estimator:hover label.sk-toggleable__label-arrow:before {color: black;}#sk-container-id-5 div.sk-toggleable__content {max-height: 0;max-width: 0;overflow: hidden;text-align: left;background-color: #f0f8ff;}#sk-container-id-5 div.sk-toggleable__content pre {margin: 0.2em;color: black;border-radius: 0.25em;background-color: #f0f8ff;}#sk-container-id-5 input.sk-toggleable__control:checked~div.sk-toggleable__content {max-height: 200px;max-width: 100%;overflow: auto;}#sk-container-id-5 input.sk-toggleable__control:checked~label.sk-toggleable__label-arrow:before {content: \"▾\";}#sk-container-id-5 div.sk-estimator input.sk-toggleable__control:checked~label.sk-toggleable__label {background-color: #d4ebff;}#sk-container-id-5 div.sk-label input.sk-toggleable__control:checked~label.sk-toggleable__label {background-color: #d4ebff;}#sk-container-id-5 input.sk-hidden--visually {border: 0;clip: rect(1px 1px 1px 1px);clip: rect(1px, 1px, 1px, 1px);height: 1px;margin: -1px;overflow: hidden;padding: 0;position: absolute;width: 1px;}#sk-container-id-5 div.sk-estimator {font-family: monospace;background-color: #f0f8ff;border: 1px dotted black;border-radius: 0.25em;box-sizing: border-box;margin-bottom: 0.5em;}#sk-container-id-5 div.sk-estimator:hover {background-color: #d4ebff;}#sk-container-id-5 div.sk-parallel-item::after {content: \"\";width: 100%;border-bottom: 1px solid gray;flex-grow: 1;}#sk-container-id-5 div.sk-label:hover label.sk-toggleable__label {background-color: #d4ebff;}#sk-container-id-5 div.sk-serial::before {content: \"\";position: absolute;border-left: 1px solid gray;box-sizing: border-box;top: 0;bottom: 0;left: 50%;z-index: 0;}#sk-container-id-5 div.sk-serial {display: flex;flex-direction: column;align-items: center;background-color: white;padding-right: 0.2em;padding-left: 0.2em;position: relative;}#sk-container-id-5 div.sk-item {position: relative;z-index: 1;}#sk-container-id-5 div.sk-parallel {display: flex;align-items: stretch;justify-content: center;background-color: white;position: relative;}#sk-container-id-5 div.sk-item::before, #sk-container-id-5 div.sk-parallel-item::before {content: \"\";position: absolute;border-left: 1px solid gray;box-sizing: border-box;top: 0;bottom: 0;left: 50%;z-index: -1;}#sk-container-id-5 div.sk-parallel-item {display: flex;flex-direction: column;z-index: 1;position: relative;background-color: white;}#sk-container-id-5 div.sk-parallel-item:first-child::after {align-self: flex-end;width: 50%;}#sk-container-id-5 div.sk-parallel-item:last-child::after {align-self: flex-start;width: 50%;}#sk-container-id-5 div.sk-parallel-item:only-child::after {width: 0;}#sk-container-id-5 div.sk-dashed-wrapped {border: 1px dashed gray;margin: 0 0.4em 0.5em 0.4em;box-sizing: border-box;padding-bottom: 0.4em;background-color: white;}#sk-container-id-5 div.sk-label label {font-family: monospace;font-weight: bold;display: inline-block;line-height: 1.2em;}#sk-container-id-5 div.sk-label-container {text-align: center;}#sk-container-id-5 div.sk-container {/* jupyter's `normalize.less` sets `[hidden] { display: none; }` but bootstrap.min.css set `[hidden] { display: none !important; }` so we also need the `!important` here to be able to override the default hidden behavior on the sphinx rendered scikit-learn.org. See: https://github.com/scikit-learn/scikit-learn/issues/21755 */display: inline-block !important;position: relative;}#sk-container-id-5 div.sk-text-repr-fallback {display: none;}</style><div id=\"sk-container-id-5\" class=\"sk-top-container\"><div class=\"sk-text-repr-fallback\"><pre>LinearSVR(epsilon=1.5, random_state=42)</pre><b>In a Jupyter environment, please rerun this cell to show the HTML representation or trust the notebook. <br />On GitHub, the HTML representation is unable to render, please try loading this page with nbviewer.org.</b></div><div class=\"sk-container\" hidden><div class=\"sk-item\"><div class=\"sk-estimator sk-toggleable\"><input class=\"sk-toggleable__control sk-hidden--visually\" id=\"sk-estimator-id-5\" type=\"checkbox\" checked><label for=\"sk-estimator-id-5\" class=\"sk-toggleable__label sk-toggleable__label-arrow\">LinearSVR</label><div class=\"sk-toggleable__content\"><pre>LinearSVR(epsilon=1.5, random_state=42)</pre></div></div></div></div></div>"
      ],
      "text/plain": [
       "LinearSVR(epsilon=1.5, random_state=42)"
      ]
     },
     "execution_count": 30,
     "metadata": {},
     "output_type": "execute_result"
    }
   ],
   "source": [
    "X_train=X[:40]\n",
    "X_test=X[40:]\n",
    "y_train=y[:40]\n",
    "y_test=y[40:]\n",
    "from sklearn.svm import LinearSVR\n",
    "svm_reg=LinearSVR(epsilon=1.5,random_state=42)\n",
    "svm_reg.fit(X_train,y_train)"
   ]
  },
  {
   "cell_type": "code",
   "execution_count": 31,
   "id": "32571ea9",
   "metadata": {},
   "outputs": [
    {
     "name": "stdout",
     "output_type": "stream",
     "text": [
      "[4.513 7.328 5.684 8.938 4.744 7.473 6.786 7.449 6.751 5.622]\n",
      "[4.211 6.489 3.676 9.018 5.046 7.511 5.369 6.641 6.804 4.594]\n",
      "0.9299366061913275\n"
     ]
    }
   ],
   "source": [
    "y_pred=svm_reg.predict(X_test)\n",
    "mse=mean_squared_error(y_test,y_pred)\n",
    "rmse=np.sqrt(mse)\n",
    "print(y_test)\n",
    "print(y_pred)\n",
    "print(rmse)"
   ]
  },
  {
   "cell_type": "code",
   "execution_count": 32,
   "id": "9bea782b",
   "metadata": {},
   "outputs": [
    {
     "data": {
      "text/html": [
       "<style>#sk-container-id-6 {color: black;background-color: white;}#sk-container-id-6 pre{padding: 0;}#sk-container-id-6 div.sk-toggleable {background-color: white;}#sk-container-id-6 label.sk-toggleable__label {cursor: pointer;display: block;width: 100%;margin-bottom: 0;padding: 0.3em;box-sizing: border-box;text-align: center;}#sk-container-id-6 label.sk-toggleable__label-arrow:before {content: \"▸\";float: left;margin-right: 0.25em;color: #696969;}#sk-container-id-6 label.sk-toggleable__label-arrow:hover:before {color: black;}#sk-container-id-6 div.sk-estimator:hover label.sk-toggleable__label-arrow:before {color: black;}#sk-container-id-6 div.sk-toggleable__content {max-height: 0;max-width: 0;overflow: hidden;text-align: left;background-color: #f0f8ff;}#sk-container-id-6 div.sk-toggleable__content pre {margin: 0.2em;color: black;border-radius: 0.25em;background-color: #f0f8ff;}#sk-container-id-6 input.sk-toggleable__control:checked~div.sk-toggleable__content {max-height: 200px;max-width: 100%;overflow: auto;}#sk-container-id-6 input.sk-toggleable__control:checked~label.sk-toggleable__label-arrow:before {content: \"▾\";}#sk-container-id-6 div.sk-estimator input.sk-toggleable__control:checked~label.sk-toggleable__label {background-color: #d4ebff;}#sk-container-id-6 div.sk-label input.sk-toggleable__control:checked~label.sk-toggleable__label {background-color: #d4ebff;}#sk-container-id-6 input.sk-hidden--visually {border: 0;clip: rect(1px 1px 1px 1px);clip: rect(1px, 1px, 1px, 1px);height: 1px;margin: -1px;overflow: hidden;padding: 0;position: absolute;width: 1px;}#sk-container-id-6 div.sk-estimator {font-family: monospace;background-color: #f0f8ff;border: 1px dotted black;border-radius: 0.25em;box-sizing: border-box;margin-bottom: 0.5em;}#sk-container-id-6 div.sk-estimator:hover {background-color: #d4ebff;}#sk-container-id-6 div.sk-parallel-item::after {content: \"\";width: 100%;border-bottom: 1px solid gray;flex-grow: 1;}#sk-container-id-6 div.sk-label:hover label.sk-toggleable__label {background-color: #d4ebff;}#sk-container-id-6 div.sk-serial::before {content: \"\";position: absolute;border-left: 1px solid gray;box-sizing: border-box;top: 0;bottom: 0;left: 50%;z-index: 0;}#sk-container-id-6 div.sk-serial {display: flex;flex-direction: column;align-items: center;background-color: white;padding-right: 0.2em;padding-left: 0.2em;position: relative;}#sk-container-id-6 div.sk-item {position: relative;z-index: 1;}#sk-container-id-6 div.sk-parallel {display: flex;align-items: stretch;justify-content: center;background-color: white;position: relative;}#sk-container-id-6 div.sk-item::before, #sk-container-id-6 div.sk-parallel-item::before {content: \"\";position: absolute;border-left: 1px solid gray;box-sizing: border-box;top: 0;bottom: 0;left: 50%;z-index: -1;}#sk-container-id-6 div.sk-parallel-item {display: flex;flex-direction: column;z-index: 1;position: relative;background-color: white;}#sk-container-id-6 div.sk-parallel-item:first-child::after {align-self: flex-end;width: 50%;}#sk-container-id-6 div.sk-parallel-item:last-child::after {align-self: flex-start;width: 50%;}#sk-container-id-6 div.sk-parallel-item:only-child::after {width: 0;}#sk-container-id-6 div.sk-dashed-wrapped {border: 1px dashed gray;margin: 0 0.4em 0.5em 0.4em;box-sizing: border-box;padding-bottom: 0.4em;background-color: white;}#sk-container-id-6 div.sk-label label {font-family: monospace;font-weight: bold;display: inline-block;line-height: 1.2em;}#sk-container-id-6 div.sk-label-container {text-align: center;}#sk-container-id-6 div.sk-container {/* jupyter's `normalize.less` sets `[hidden] { display: none; }` but bootstrap.min.css set `[hidden] { display: none !important; }` so we also need the `!important` here to be able to override the default hidden behavior on the sphinx rendered scikit-learn.org. See: https://github.com/scikit-learn/scikit-learn/issues/21755 */display: inline-block !important;position: relative;}#sk-container-id-6 div.sk-text-repr-fallback {display: none;}</style><div id=\"sk-container-id-6\" class=\"sk-top-container\"><div class=\"sk-text-repr-fallback\"><pre>LinearSVR(epsilon=0.5, random_state=42)</pre><b>In a Jupyter environment, please rerun this cell to show the HTML representation or trust the notebook. <br />On GitHub, the HTML representation is unable to render, please try loading this page with nbviewer.org.</b></div><div class=\"sk-container\" hidden><div class=\"sk-item\"><div class=\"sk-estimator sk-toggleable\"><input class=\"sk-toggleable__control sk-hidden--visually\" id=\"sk-estimator-id-6\" type=\"checkbox\" checked><label for=\"sk-estimator-id-6\" class=\"sk-toggleable__label sk-toggleable__label-arrow\">LinearSVR</label><div class=\"sk-toggleable__content\"><pre>LinearSVR(epsilon=0.5, random_state=42)</pre></div></div></div></div></div>"
      ],
      "text/plain": [
       "LinearSVR(epsilon=0.5, random_state=42)"
      ]
     },
     "execution_count": 32,
     "metadata": {},
     "output_type": "execute_result"
    }
   ],
   "source": [
    "X_train=X[:40]\n",
    "X_test=X[40:]\n",
    "y_train=y[:40]\n",
    "y_test=y[40:]\n",
    "from sklearn.svm import LinearSVR\n",
    "svm_reg=LinearSVR(epsilon=0.5,random_state=42)\n",
    "svm_reg.fit(X_train,y_train)"
   ]
  },
  {
   "cell_type": "code",
   "execution_count": 33,
   "id": "ff1cb2e5",
   "metadata": {},
   "outputs": [
    {
     "name": "stdout",
     "output_type": "stream",
     "text": [
      "[4.513 7.328 5.684 8.938 4.744 7.473 6.786 7.449 6.751 5.622]\n",
      "[4.588 6.941 4.035 9.552 5.45  7.996 5.784 7.098 7.266 4.984]\n",
      "0.7631717017333474\n"
     ]
    }
   ],
   "source": [
    "y_pred=svm_reg.predict(X_test)\n",
    "mse=mean_squared_error(y_test,y_pred)\n",
    "rmse=np.sqrt(mse)\n",
    "print(y_test)\n",
    "print(y_pred)\n",
    "print(rmse)"
   ]
  },
  {
   "cell_type": "code",
   "execution_count": 34,
   "id": "317d28d4",
   "metadata": {},
   "outputs": [],
   "source": [
    "## 비선형 데이터 생성 \n",
    "np.random.seed(42)\n",
    "m = 100\n",
    "X = 2* np.random.rand(m,1) -1\n",
    "y = (0.2 + 0.1 * X + 0.5 * X**2 + np.random.randn(m,1) / 10).ravel()\n",
    "X_train = X[:80]\n",
    "X_test = X[80:]\n",
    "y_train = y[:80]\n",
    "y_test = y[80:]"
   ]
  },
  {
   "cell_type": "code",
   "execution_count": 35,
   "id": "663a8bb3",
   "metadata": {},
   "outputs": [
    {
     "name": "stdout",
     "output_type": "stream",
     "text": [
      "[0.723 0.302 0.104 0.559 0.136 0.305 0.467 0.183 0.674 0.237 0.496 0.523\n",
      " 0.364 0.144 0.312 0.117 0.198 0.23  0.583 0.512]\n",
      "[0. 0. 0. 0. 0. 0. 0. 0. 0. 0. 0. 0. 0. 0. 0. 0. 0. 0. 0. 0.]\n",
      "0.4055248767954734\n"
     ]
    },
    {
     "data": {
      "image/png": "[encoded data removed]",
      "text/plain": [
       "<Figure size 640x480 with 1 Axes>"
      ]
     },
     "metadata": {},
     "output_type": "display_data"
    }
   ],
   "source": [
    "svm_reg=LinearSVR(epsilon=1.5, random_state=42)\n",
    "svm_reg.fit(X_train,y_train)\n",
    "y_pred=svm_reg.predict(X_test)\n",
    "mse=mean_squared_error(y_test,y_pred)\n",
    "rmse=np.sqrt(mse)\n",
    "print(y_test)\n",
    "print(y_pred)\n",
    "print(rmse)\n",
    "plt.plot(y_test,'b--',linewidth=3, label='test_set')\n",
    "plt.plot(y_pred,'c--',linewidth=3, label='predict_set')\n",
    "plt.show()"
   ]
  },
  {
   "cell_type": "code",
   "execution_count": 36,
   "id": "57773383",
   "metadata": {},
   "outputs": [
    {
     "name": "stdout",
     "output_type": "stream",
     "text": [
      "[0.723 0.302 0.104 0.559 0.136 0.305 0.467 0.183 0.674 0.237 0.496 0.523\n",
      " 0.364 0.144 0.312 0.117 0.198 0.23  0.583 0.512]\n",
      "[0.465 0.198 0.229 0.599 0.245 0.234 0.284 0.207 0.506 0.165 0.495 0.268\n",
      " 0.319 0.172 0.332 0.164 0.165 0.176 0.679 0.515]\n",
      "0.11454023807854878\n"
     ]
    },
    {
     "data": {
      "image/png": "[encoded data removed]",
      "text/plain": [
       "<Figure size 640x480 with 1 Axes>"
      ]
     },
     "metadata": {},
     "output_type": "display_data"
    }
   ],
   "source": [
    "from sklearn.svm import SVR\n",
    "# 샘플 데이터를 2차 방정식으로 했기 때문에 지금은 degree가 2인 경우가 잘 맞습니다.\n",
    "svm_poly_reg = SVR(kernel='poly', gamma='auto', degree=2, C=10, epsilon=0.1)\n",
    "svm_poly_reg.fit(X_train,y_train)\n",
    "# 예측 및 결과 비교\n",
    "y_pred = svm_poly_reg.predict(X_test)\n",
    "print(y_test)\n",
    "print(y_pred)\n",
    "mse = mean_squared_error(y_test, y_pred)\n",
    "rmse = np.sqrt(mse)\n",
    "print(rmse)\n",
    "plt.plot(y_test, \"b-\", linewidth=3, label=\"test set\")\n",
    "plt.plot(y_pred, \"r--\", linewidth=2, label=\"predict set\")\n",
    "plt.legend(loc=\"upper right\", fontsize=14)\n",
    "plt.show()"
   ]
  },
  {
   "cell_type": "markdown",
   "id": "5eef92b7",
   "metadata": {},
   "source": [
    "## Ensemble"
   ]
  },
  {
   "cell_type": "markdown",
   "id": "e002ea04",
   "metadata": {},
   "source": [
    "### 투표기반 분류기의 성능 확인"
   ]
  },
  {
   "cell_type": "code",
   "execution_count": 37,
   "id": "17f44588",
   "metadata": {},
   "outputs": [
    {
     "data": {
      "text/html": [
       "<style>#sk-container-id-7 {color: black;background-color: white;}#sk-container-id-7 pre{padding: 0;}#sk-container-id-7 div.sk-toggleable {background-color: white;}#sk-container-id-7 label.sk-toggleable__label {cursor: pointer;display: block;width: 100%;margin-bottom: 0;padding: 0.3em;box-sizing: border-box;text-align: center;}#sk-container-id-7 label.sk-toggleable__label-arrow:before {content: \"▸\";float: left;margin-right: 0.25em;color: #696969;}#sk-container-id-7 label.sk-toggleable__label-arrow:hover:before {color: black;}#sk-container-id-7 div.sk-estimator:hover label.sk-toggleable__label-arrow:before {color: black;}#sk-container-id-7 div.sk-toggleable__content {max-height: 0;max-width: 0;overflow: hidden;text-align: left;background-color: #f0f8ff;}#sk-container-id-7 div.sk-toggleable__content pre {margin: 0.2em;color: black;border-radius: 0.25em;background-color: #f0f8ff;}#sk-container-id-7 input.sk-toggleable__control:checked~div.sk-toggleable__content {max-height: 200px;max-width: 100%;overflow: auto;}#sk-container-id-7 input.sk-toggleable__control:checked~label.sk-toggleable__label-arrow:before {content: \"▾\";}#sk-container-id-7 div.sk-estimator input.sk-toggleable__control:checked~label.sk-toggleable__label {background-color: #d4ebff;}#sk-container-id-7 div.sk-label input.sk-toggleable__control:checked~label.sk-toggleable__label {background-color: #d4ebff;}#sk-container-id-7 input.sk-hidden--visually {border: 0;clip: rect(1px 1px 1px 1px);clip: rect(1px, 1px, 1px, 1px);height: 1px;margin: -1px;overflow: hidden;padding: 0;position: absolute;width: 1px;}#sk-container-id-7 div.sk-estimator {font-family: monospace;background-color: #f0f8ff;border: 1px dotted black;border-radius: 0.25em;box-sizing: border-box;margin-bottom: 0.5em;}#sk-container-id-7 div.sk-estimator:hover {background-color: #d4ebff;}#sk-container-id-7 div.sk-parallel-item::after {content: \"\";width: 100%;border-bottom: 1px solid gray;flex-grow: 1;}#sk-container-id-7 div.sk-label:hover label.sk-toggleable__label {background-color: #d4ebff;}#sk-container-id-7 div.sk-serial::before {content: \"\";position: absolute;border-left: 1px solid gray;box-sizing: border-box;top: 0;bottom: 0;left: 50%;z-index: 0;}#sk-container-id-7 div.sk-serial {display: flex;flex-direction: column;align-items: center;background-color: white;padding-right: 0.2em;padding-left: 0.2em;position: relative;}#sk-container-id-7 div.sk-item {position: relative;z-index: 1;}#sk-container-id-7 div.sk-parallel {display: flex;align-items: stretch;justify-content: center;background-color: white;position: relative;}#sk-container-id-7 div.sk-item::before, #sk-container-id-7 div.sk-parallel-item::before {content: \"\";position: absolute;border-left: 1px solid gray;box-sizing: border-box;top: 0;bottom: 0;left: 50%;z-index: -1;}#sk-container-id-7 div.sk-parallel-item {display: flex;flex-direction: column;z-index: 1;position: relative;background-color: white;}#sk-container-id-7 div.sk-parallel-item:first-child::after {align-self: flex-end;width: 50%;}#sk-container-id-7 div.sk-parallel-item:last-child::after {align-self: flex-start;width: 50%;}#sk-container-id-7 div.sk-parallel-item:only-child::after {width: 0;}#sk-container-id-7 div.sk-dashed-wrapped {border: 1px dashed gray;margin: 0 0.4em 0.5em 0.4em;box-sizing: border-box;padding-bottom: 0.4em;background-color: white;}#sk-container-id-7 div.sk-label label {font-family: monospace;font-weight: bold;display: inline-block;line-height: 1.2em;}#sk-container-id-7 div.sk-label-container {text-align: center;}#sk-container-id-7 div.sk-container {/* jupyter's `normalize.less` sets `[hidden] { display: none; }` but bootstrap.min.css set `[hidden] { display: none !important; }` so we also need the `!important` here to be able to override the default hidden behavior on the sphinx rendered scikit-learn.org. See: https://github.com/scikit-learn/scikit-learn/issues/21755 */display: inline-block !important;position: relative;}#sk-container-id-7 div.sk-text-repr-fallback {display: none;}</style><div id=\"sk-container-id-7\" class=\"sk-top-container\"><div class=\"sk-text-repr-fallback\"><pre>VotingClassifier(estimators=[(&#x27;lr&#x27;, LogisticRegression(random_state=42)),\n",
       "                             (&#x27;rf&#x27;, RandomForestClassifier(random_state=42)),\n",
       "                             (&#x27;svc&#x27;, SVC(random_state=42))])</pre><b>In a Jupyter environment, please rerun this cell to show the HTML representation or trust the notebook. <br />On GitHub, the HTML representation is unable to render, please try loading this page with nbviewer.org.</b></div><div class=\"sk-container\" hidden><div class=\"sk-item sk-dashed-wrapped\"><div class=\"sk-label-container\"><div class=\"sk-label sk-toggleable\"><input class=\"sk-toggleable__control sk-hidden--visually\" id=\"sk-estimator-id-7\" type=\"checkbox\" ><label for=\"sk-estimator-id-7\" class=\"sk-toggleable__label sk-toggleable__label-arrow\">VotingClassifier</label><div class=\"sk-toggleable__content\"><pre>VotingClassifier(estimators=[(&#x27;lr&#x27;, LogisticRegression(random_state=42)),\n",
       "                             (&#x27;rf&#x27;, RandomForestClassifier(random_state=42)),\n",
       "                             (&#x27;svc&#x27;, SVC(random_state=42))])</pre></div></div></div><div class=\"sk-parallel\"><div class=\"sk-parallel-item\"><div class=\"sk-item\"><div class=\"sk-label-container\"><div class=\"sk-label sk-toggleable\"><label>lr</label></div></div><div class=\"sk-serial\"><div class=\"sk-item\"><div class=\"sk-estimator sk-toggleable\"><input class=\"sk-toggleable__control sk-hidden--visually\" id=\"sk-estimator-id-8\" type=\"checkbox\" ><label for=\"sk-estimator-id-8\" class=\"sk-toggleable__label sk-toggleable__label-arrow\">LogisticRegression</label><div class=\"sk-toggleable__content\"><pre>LogisticRegression(random_state=42)</pre></div></div></div></div></div></div><div class=\"sk-parallel-item\"><div class=\"sk-item\"><div class=\"sk-label-container\"><div class=\"sk-label sk-toggleable\"><label>rf</label></div></div><div class=\"sk-serial\"><div class=\"sk-item\"><div class=\"sk-estimator sk-toggleable\"><input class=\"sk-toggleable__control sk-hidden--visually\" id=\"sk-estimator-id-9\" type=\"checkbox\" ><label for=\"sk-estimator-id-9\" class=\"sk-toggleable__label sk-toggleable__label-arrow\">RandomForestClassifier</label><div class=\"sk-toggleable__content\"><pre>RandomForestClassifier(random_state=42)</pre></div></div></div></div></div></div><div class=\"sk-parallel-item\"><div class=\"sk-item\"><div class=\"sk-label-container\"><div class=\"sk-label sk-toggleable\"><label>svc</label></div></div><div class=\"sk-serial\"><div class=\"sk-item\"><div class=\"sk-estimator sk-toggleable\"><input class=\"sk-toggleable__control sk-hidden--visually\" id=\"sk-estimator-id-10\" type=\"checkbox\" ><label for=\"sk-estimator-id-10\" class=\"sk-toggleable__label sk-toggleable__label-arrow\">SVC</label><div class=\"sk-toggleable__content\"><pre>SVC(random_state=42)</pre></div></div></div></div></div></div></div></div></div></div>"
      ],
      "text/plain": [
       "VotingClassifier(estimators=[('lr', LogisticRegression(random_state=42)),\n",
       "                             ('rf', RandomForestClassifier(random_state=42)),\n",
       "                             ('svc', SVC(random_state=42))])"
      ]
     },
     "execution_count": 37,
     "metadata": {},
     "output_type": "execute_result"
    }
   ],
   "source": [
    "# 데이터 생성\n",
    "from sklearn.model_selection import train_test_split\n",
    "from sklearn.datasets import make_moons\n",
    "X, y = make_moons(n_samples=500, noise=0.30, random_state=42)\n",
    "X_train, X_test, y_train, y_test = train_test_split(X, y, random_state=42)\n",
    "#모델 생성 및 훈련\n",
    "from sklearn.ensemble import RandomForestClassifier\n",
    "from sklearn.ensemble import VotingClassifier\n",
    "from sklearn.linear_model import LogisticRegression\n",
    "from sklearn.svm import SVC\n",
    "log_clf = LogisticRegression(solver=\"lbfgs\", random_state=42)\n",
    "rnd_clf = RandomForestClassifier(n_estimators=100, random_state=42)\n",
    "svm_clf = SVC(gamma=\"scale\", random_state=42)\n",
    "voting_clf = VotingClassifier(\n",
    "estimators=[('lr', log_clf), ('rf', rnd_clf), ('svc', svm_clf)],\n",
    "voting='hard')\n",
    "voting_clf.fit(X_train, y_train)"
   ]
  },
  {
   "cell_type": "code",
   "execution_count": 38,
   "id": "7620a8e2",
   "metadata": {},
   "outputs": [
    {
     "name": "stdout",
     "output_type": "stream",
     "text": [
      "LogisticRegression 정확도 :  0.864\n",
      "SVC 정확도 :  0.896\n",
      "RandomForestClassifier 정확도 :  0.896\n",
      "VotingClassifier 정확도 :  0.912\n"
     ]
    }
   ],
   "source": [
    "# 각 모델의 정확도 확인해보기\n",
    "from sklearn.metrics import accuracy_score\n",
    "for clf in (log_clf, svm_clf, rnd_clf, voting_clf):\n",
    "    clf.fit(X_train,y_train)\n",
    "    y_pred=clf.predict(X_test)\n",
    "    print(clf.__class__.__name__,\"정확도 : \",accuracy_score(y_test,y_pred))"
   ]
  },
  {
   "cell_type": "code",
   "execution_count": 39,
   "id": "a704504f",
   "metadata": {},
   "outputs": [
    {
     "name": "stdout",
     "output_type": "stream",
     "text": [
      "LogisticRegression 정확도 :  0.864\n",
      "SVC 정확도 :  0.896\n",
      "RandomForestClassifier 정확도 :  0.896\n",
      "VotingClassifier 정확도 :  0.92\n"
     ]
    }
   ],
   "source": [
    "# 간접 투표 방식\n",
    "log_clf = LogisticRegression(solver=\"lbfgs\", random_state=42)\n",
    "rnd_clf = RandomForestClassifier(n_estimators=100, random_state=42)\n",
    "svm_clf = SVC(gamma=\"scale\",probability=True, random_state=42)\n",
    "voting_clf = VotingClassifier(\n",
    "estimators=[('lr', log_clf), ('rf', rnd_clf), ('svc', svm_clf)],\n",
    "voting='soft')\n",
    "from sklearn.metrics import accuracy_score\n",
    "for clf in (log_clf, svm_clf, rnd_clf, voting_clf):\n",
    "    clf.fit(X_train,y_train)\n",
    "    y_pred=clf.predict(X_test)\n",
    "    print(clf.__class__.__name__,\"정확도 : \",accuracy_score(y_test,y_pred))"
   ]
  },
  {
   "cell_type": "markdown",
   "id": "edf97ee5",
   "metadata": {},
   "source": [
    "### Bagging을 이용한 앙상블"
   ]
  },
  {
   "cell_type": "code",
   "execution_count": 40,
   "id": "03e73eeb",
   "metadata": {},
   "outputs": [
    {
     "name": "stdout",
     "output_type": "stream",
     "text": [
      "정확도 :  0.912\n"
     ]
    }
   ],
   "source": [
    "from sklearn.ensemble import BaggingClassifier\n",
    "from sklearn.tree import DecisionTreeClassifier\n",
    "bag_clf=BaggingClassifier(\n",
    "    DecisionTreeClassifier(),\n",
    "    n_estimators=35, # 500개의 예측기\n",
    "    max_samples=100,\n",
    "    bootstrap=True,\n",
    "    random_state=42\n",
    ")\n",
    "bag_clf.fit(X_train,y_train)\n",
    "y_pred=bag_clf.predict(X_test)\n",
    "print(\"정확도 : \", accuracy_score(y_test,y_pred))"
   ]
  },
  {
   "cell_type": "code",
   "execution_count": 41,
   "id": "bceadf7b",
   "metadata": {},
   "outputs": [
    {
     "name": "stdout",
     "output_type": "stream",
     "text": [
      "0.856\n"
     ]
    }
   ],
   "source": [
    "tree_clf=DecisionTreeClassifier(random_state=42)\n",
    "tree_clf.fit(X_train,y_train)\n",
    "y_pred_tree=tree_clf.predict(X_test)\n",
    "print(accuracy_score(y_test,y_pred_tree))"
   ]
  },
  {
   "cell_type": "code",
   "execution_count": 42,
   "id": "bdde078d",
   "metadata": {},
   "outputs": [
    {
     "name": "stdout",
     "output_type": "stream",
     "text": [
      "0.9253333333333333\n"
     ]
    }
   ],
   "source": [
    "#oob 평가\n",
    "bag_clf = BaggingClassifier(\n",
    "    DecisionTreeClassifier(),\n",
    "    n_estimators=500,\n",
    "    max_samples=100, bootstrap=True, random_state=42, oob_score=True\n",
    ")\n",
    "bag_clf.fit(X_train, y_train)\n",
    "print(bag_clf.oob_score_)"
   ]
  },
  {
   "cell_type": "markdown",
   "id": "5d640f61",
   "metadata": {},
   "source": [
    "### Bagging과 Random Forest"
   ]
  },
  {
   "cell_type": "code",
   "execution_count": 43,
   "id": "1f382eff",
   "metadata": {},
   "outputs": [],
   "source": [
    "#배깅\n",
    "bag_clf = BaggingClassifier(\n",
    "    DecisionTreeClassifier(max_features=\"sqrt\", max_leaf_nodes=16),\n",
    "    n_estimators=500,\n",
    "    random_state=42)\n",
    "bag_clf.fit(X_train, y_train)\n",
    "y_pred = bag_clf.predict(X_test)"
   ]
  },
  {
   "cell_type": "code",
   "execution_count": 44,
   "id": "f06f73a3",
   "metadata": {},
   "outputs": [],
   "source": [
    "#랜덤 포레스트\n",
    "from sklearn.ensemble import RandomForestClassifier\n",
    "\n",
    "rnd_clf = RandomForestClassifier(n_estimators=500, max_leaf_nodes=16,\n",
    "                                random_state=42)\n",
    "rnd_clf.fit(X_train, y_train)\n",
    "y_pred_rf = rnd_clf.predict(X_test)"
   ]
  },
  {
   "cell_type": "code",
   "execution_count": 45,
   "id": "a7fb57a5",
   "metadata": {},
   "outputs": [
    {
     "name": "stdout",
     "output_type": "stream",
     "text": [
      "1.0\n"
     ]
    }
   ],
   "source": [
    "print(np.sum(y_pred == y_pred_rf) / len(y_pred))"
   ]
  },
  {
   "cell_type": "markdown",
   "id": "2df90ba9",
   "metadata": {},
   "source": [
    "## 타이타닉 데이터에 RandomForest 적용"
   ]
  },
  {
   "cell_type": "code",
   "execution_count": 46,
   "id": "49db67b8",
   "metadata": {},
   "outputs": [
    {
     "data": {
      "text/html": [
       "<div>\n",
       "<style scoped>\n",
       "    .dataframe tbody tr th:only-of-type {\n",
       "        vertical-align: middle;\n",
       "    }\n",
       "\n",
       "    .dataframe tbody tr th {\n",
       "        vertical-align: top;\n",
       "    }\n",
       "\n",
       "    .dataframe thead th {\n",
       "        text-align: right;\n",
       "    }\n",
       "</style>\n",
       "<table border=\"1\" class=\"dataframe\">\n",
       "  <thead>\n",
       "    <tr style=\"text-align: right;\">\n",
       "      <th></th>\n",
       "      <th>survived</th>\n",
       "      <th>pclass</th>\n",
       "      <th>sex</th>\n",
       "      <th>age</th>\n",
       "      <th>sibsp</th>\n",
       "      <th>parch</th>\n",
       "      <th>fare</th>\n",
       "      <th>embarked</th>\n",
       "      <th>class</th>\n",
       "      <th>who</th>\n",
       "      <th>adult_male</th>\n",
       "      <th>deck</th>\n",
       "      <th>embark_town</th>\n",
       "      <th>alive</th>\n",
       "      <th>alone</th>\n",
       "    </tr>\n",
       "  </thead>\n",
       "  <tbody>\n",
       "    <tr>\n",
       "      <th>0</th>\n",
       "      <td>0</td>\n",
       "      <td>3</td>\n",
       "      <td>male</td>\n",
       "      <td>22.0</td>\n",
       "      <td>1</td>\n",
       "      <td>0</td>\n",
       "      <td>7.250</td>\n",
       "      <td>S</td>\n",
       "      <td>Third</td>\n",
       "      <td>man</td>\n",
       "      <td>True</td>\n",
       "      <td>NaN</td>\n",
       "      <td>Southampton</td>\n",
       "      <td>no</td>\n",
       "      <td>False</td>\n",
       "    </tr>\n",
       "    <tr>\n",
       "      <th>1</th>\n",
       "      <td>1</td>\n",
       "      <td>1</td>\n",
       "      <td>female</td>\n",
       "      <td>38.0</td>\n",
       "      <td>1</td>\n",
       "      <td>0</td>\n",
       "      <td>71.283</td>\n",
       "      <td>C</td>\n",
       "      <td>First</td>\n",
       "      <td>woman</td>\n",
       "      <td>False</td>\n",
       "      <td>C</td>\n",
       "      <td>Cherbourg</td>\n",
       "      <td>yes</td>\n",
       "      <td>False</td>\n",
       "    </tr>\n",
       "    <tr>\n",
       "      <th>2</th>\n",
       "      <td>1</td>\n",
       "      <td>3</td>\n",
       "      <td>female</td>\n",
       "      <td>26.0</td>\n",
       "      <td>0</td>\n",
       "      <td>0</td>\n",
       "      <td>7.925</td>\n",
       "      <td>S</td>\n",
       "      <td>Third</td>\n",
       "      <td>woman</td>\n",
       "      <td>False</td>\n",
       "      <td>NaN</td>\n",
       "      <td>Southampton</td>\n",
       "      <td>yes</td>\n",
       "      <td>True</td>\n",
       "    </tr>\n",
       "    <tr>\n",
       "      <th>3</th>\n",
       "      <td>1</td>\n",
       "      <td>1</td>\n",
       "      <td>female</td>\n",
       "      <td>35.0</td>\n",
       "      <td>1</td>\n",
       "      <td>0</td>\n",
       "      <td>53.100</td>\n",
       "      <td>S</td>\n",
       "      <td>First</td>\n",
       "      <td>woman</td>\n",
       "      <td>False</td>\n",
       "      <td>C</td>\n",
       "      <td>Southampton</td>\n",
       "      <td>yes</td>\n",
       "      <td>False</td>\n",
       "    </tr>\n",
       "    <tr>\n",
       "      <th>4</th>\n",
       "      <td>0</td>\n",
       "      <td>3</td>\n",
       "      <td>male</td>\n",
       "      <td>35.0</td>\n",
       "      <td>0</td>\n",
       "      <td>0</td>\n",
       "      <td>8.050</td>\n",
       "      <td>S</td>\n",
       "      <td>Third</td>\n",
       "      <td>man</td>\n",
       "      <td>True</td>\n",
       "      <td>NaN</td>\n",
       "      <td>Southampton</td>\n",
       "      <td>no</td>\n",
       "      <td>True</td>\n",
       "    </tr>\n",
       "    <tr>\n",
       "      <th>...</th>\n",
       "      <td>...</td>\n",
       "      <td>...</td>\n",
       "      <td>...</td>\n",
       "      <td>...</td>\n",
       "      <td>...</td>\n",
       "      <td>...</td>\n",
       "      <td>...</td>\n",
       "      <td>...</td>\n",
       "      <td>...</td>\n",
       "      <td>...</td>\n",
       "      <td>...</td>\n",
       "      <td>...</td>\n",
       "      <td>...</td>\n",
       "      <td>...</td>\n",
       "      <td>...</td>\n",
       "    </tr>\n",
       "    <tr>\n",
       "      <th>886</th>\n",
       "      <td>0</td>\n",
       "      <td>2</td>\n",
       "      <td>male</td>\n",
       "      <td>27.0</td>\n",
       "      <td>0</td>\n",
       "      <td>0</td>\n",
       "      <td>13.000</td>\n",
       "      <td>S</td>\n",
       "      <td>Second</td>\n",
       "      <td>man</td>\n",
       "      <td>True</td>\n",
       "      <td>NaN</td>\n",
       "      <td>Southampton</td>\n",
       "      <td>no</td>\n",
       "      <td>True</td>\n",
       "    </tr>\n",
       "    <tr>\n",
       "      <th>887</th>\n",
       "      <td>1</td>\n",
       "      <td>1</td>\n",
       "      <td>female</td>\n",
       "      <td>19.0</td>\n",
       "      <td>0</td>\n",
       "      <td>0</td>\n",
       "      <td>30.000</td>\n",
       "      <td>S</td>\n",
       "      <td>First</td>\n",
       "      <td>woman</td>\n",
       "      <td>False</td>\n",
       "      <td>B</td>\n",
       "      <td>Southampton</td>\n",
       "      <td>yes</td>\n",
       "      <td>True</td>\n",
       "    </tr>\n",
       "    <tr>\n",
       "      <th>888</th>\n",
       "      <td>0</td>\n",
       "      <td>3</td>\n",
       "      <td>female</td>\n",
       "      <td>NaN</td>\n",
       "      <td>1</td>\n",
       "      <td>2</td>\n",
       "      <td>23.450</td>\n",
       "      <td>S</td>\n",
       "      <td>Third</td>\n",
       "      <td>woman</td>\n",
       "      <td>False</td>\n",
       "      <td>NaN</td>\n",
       "      <td>Southampton</td>\n",
       "      <td>no</td>\n",
       "      <td>False</td>\n",
       "    </tr>\n",
       "    <tr>\n",
       "      <th>889</th>\n",
       "      <td>1</td>\n",
       "      <td>1</td>\n",
       "      <td>male</td>\n",
       "      <td>26.0</td>\n",
       "      <td>0</td>\n",
       "      <td>0</td>\n",
       "      <td>30.000</td>\n",
       "      <td>C</td>\n",
       "      <td>First</td>\n",
       "      <td>man</td>\n",
       "      <td>True</td>\n",
       "      <td>C</td>\n",
       "      <td>Cherbourg</td>\n",
       "      <td>yes</td>\n",
       "      <td>True</td>\n",
       "    </tr>\n",
       "    <tr>\n",
       "      <th>890</th>\n",
       "      <td>0</td>\n",
       "      <td>3</td>\n",
       "      <td>male</td>\n",
       "      <td>32.0</td>\n",
       "      <td>0</td>\n",
       "      <td>0</td>\n",
       "      <td>7.750</td>\n",
       "      <td>Q</td>\n",
       "      <td>Third</td>\n",
       "      <td>man</td>\n",
       "      <td>True</td>\n",
       "      <td>NaN</td>\n",
       "      <td>Queenstown</td>\n",
       "      <td>no</td>\n",
       "      <td>True</td>\n",
       "    </tr>\n",
       "  </tbody>\n",
       "</table>\n",
       "<p>891 rows × 15 columns</p>\n",
       "</div>"
      ],
      "text/plain": [
       "     survived  pclass     sex   age  sibsp  parch    fare embarked   class  \\\n",
       "0           0       3    male  22.0      1      0   7.250        S   Third   \n",
       "1           1       1  female  38.0      1      0  71.283        C   First   \n",
       "2           1       3  female  26.0      0      0   7.925        S   Third   \n",
       "3           1       1  female  35.0      1      0  53.100        S   First   \n",
       "4           0       3    male  35.0      0      0   8.050        S   Third   \n",
       "..        ...     ...     ...   ...    ...    ...     ...      ...     ...   \n",
       "886         0       2    male  27.0      0      0  13.000        S  Second   \n",
       "887         1       1  female  19.0      0      0  30.000        S   First   \n",
       "888         0       3  female   NaN      1      2  23.450        S   Third   \n",
       "889         1       1    male  26.0      0      0  30.000        C   First   \n",
       "890         0       3    male  32.0      0      0   7.750        Q   Third   \n",
       "\n",
       "       who  adult_male deck  embark_town alive  alone  \n",
       "0      man        True  NaN  Southampton    no  False  \n",
       "1    woman       False    C    Cherbourg   yes  False  \n",
       "2    woman       False  NaN  Southampton   yes   True  \n",
       "3    woman       False    C  Southampton   yes  False  \n",
       "4      man        True  NaN  Southampton    no   True  \n",
       "..     ...         ...  ...          ...   ...    ...  \n",
       "886    man        True  NaN  Southampton    no   True  \n",
       "887  woman       False    B  Southampton   yes   True  \n",
       "888  woman       False  NaN  Southampton    no  False  \n",
       "889    man        True    C    Cherbourg   yes   True  \n",
       "890    man        True  NaN   Queenstown    no   True  \n",
       "\n",
       "[891 rows x 15 columns]"
      ]
     },
     "execution_count": 46,
     "metadata": {},
     "output_type": "execute_result"
    }
   ],
   "source": [
    "#데이터 가져오기\n",
    "df = sns.load_dataset('titanic')\n",
    "df"
   ]
  },
  {
   "cell_type": "code",
   "execution_count": 47,
   "id": "25b41e5e",
   "metadata": {},
   "outputs": [
    {
     "name": "stdout",
     "output_type": "stream",
     "text": [
      "<class 'pandas.core.frame.DataFrame'>\n",
      "Int64Index: 714 entries, 0 to 890\n",
      "Data columns (total 13 columns):\n",
      " #   Column      Non-Null Count  Dtype   \n",
      "---  ------      --------------  -----   \n",
      " 0   survived    714 non-null    int64   \n",
      " 1   pclass      714 non-null    int64   \n",
      " 2   sex         714 non-null    object  \n",
      " 3   age         714 non-null    float64 \n",
      " 4   sibsp       714 non-null    int64   \n",
      " 5   parch       714 non-null    int64   \n",
      " 6   fare        714 non-null    float64 \n",
      " 7   embarked    714 non-null    object  \n",
      " 8   class       714 non-null    category\n",
      " 9   who         714 non-null    object  \n",
      " 10  adult_male  714 non-null    bool    \n",
      " 11  alive       714 non-null    object  \n",
      " 12  alone       714 non-null    bool    \n",
      "dtypes: bool(2), category(1), float64(2), int64(4), object(4)\n",
      "memory usage: 63.6+ KB\n"
     ]
    }
   ],
   "source": [
    "#결측치 처리\n",
    "rdf = df.drop(['deck', 'embark_town'], axis=1)\n",
    "rdf = rdf.dropna(subset=['age'], how='any', axis=0)\n",
    "most_freq=rdf['embarked'].value_counts(dropna=True).idxmax()\n",
    "rdf['embarked'].fillna(most_freq, inplace=True)\n",
    "rdf.info()"
   ]
  },
  {
   "cell_type": "code",
   "execution_count": 48,
   "id": "4776d871",
   "metadata": {},
   "outputs": [
    {
     "name": "stdout",
     "output_type": "stream",
     "text": [
      "   survived  pclass   age  sibsp  parch  female  male  town_C  town_Q  town_S\n",
      "0         0       3  22.0      1      0       0     1       0       0       1\n",
      "1         1       1  38.0      1      0       1     0       1       0       0\n",
      "2         1       3  26.0      0      0       1     0       0       0       1\n",
      "3         1       1  35.0      1      0       1     0       0       0       1\n",
      "4         0       3  35.0      0      0       0     1       0       0       1\n"
     ]
    }
   ],
   "source": [
    "#분석에 사용할 데이터 골라내기\n",
    "ndf = rdf[['survived', 'pclass', 'sex', 'age', 'sibsp', 'parch', 'embarked']]\n",
    "\n",
    "#순서가 없는 범주형 데이터의 원 핫 인코딩\n",
    "onehot_sex = pd.get_dummies(ndf['sex'])\n",
    "ndf = pd.concat([ndf, onehot_sex], axis=1)\n",
    "\n",
    "onehot_embarked = pd.get_dummies(ndf['embarked'], prefix='town')\n",
    "ndf = pd.concat([ndf, onehot_embarked], axis=1)\n",
    "\n",
    "ndf.drop(['sex', 'embarked'],axis=1, inplace=True)\n",
    "\n",
    "print(ndf.head())"
   ]
  },
  {
   "cell_type": "code",
   "execution_count": 49,
   "id": "3a0ba3ac",
   "metadata": {},
   "outputs": [
    {
     "name": "stdout",
     "output_type": "stream",
     "text": [
      "[[ 0.911 -0.53   0.525 -0.506 -0.759  0.759 -0.472 -0.202  0.533]\n",
      " [-1.476  0.572  0.525 -0.506  1.317 -1.317  2.12  -0.202 -1.876]\n",
      " [ 0.911 -0.255 -0.552 -0.506  1.317 -1.317 -0.472 -0.202  0.533]\n",
      " [-1.476  0.365  0.525 -0.506  1.317 -1.317 -0.472 -0.202  0.533]\n",
      " [ 0.911  0.365 -0.552 -0.506 -0.759  0.759 -0.472 -0.202  0.533]]\n"
     ]
    }
   ],
   "source": [
    "#피처 와 타겟을 분리\n",
    "X = ndf[['pclass', 'age', 'sibsp', 'parch', 'female', 'male', 'town_C',\n",
    "        'town_Q', 'town_S']]\n",
    "y = ndf['survived']\n",
    "\n",
    "#정규화\n",
    "from sklearn import preprocessing\n",
    "X = preprocessing.StandardScaler().fit(X).transform(X)\n",
    "print(X[0:5])"
   ]
  },
  {
   "cell_type": "code",
   "execution_count": 50,
   "id": "2408bbc9",
   "metadata": {},
   "outputs": [],
   "source": [
    "#훈련 데이터 와 테스트 데이터 분할\n",
    "\n",
    "#데이터가 랜덤하게 배치되어 있다면 분할을 할 때 순서대로 앞에서 일정 부분은\n",
    "#훈련 데이터로 사용하고 일정 부분은 테스트 데이터로 할당하면 됨\n",
    "\n",
    "#타겟의 비율을 고려 \n",
    "#타겟의 비율이 고르지 않다면 여러가지 고려\n",
    "#층화 추출이나 oversampling 이나 undersampling\n",
    "#이상치 탐지에서 이 부분이 항상 고려 대상\n",
    "\n",
    "#훈련 데이터의 비율 - 일반적으로 0.7 이나 0.8을 많이 사용\n",
    "from sklearn.model_selection import train_test_split\n",
    "X_train, X_test, y_train, y_test = train_test_split(\n",
    "    X, y, test_size=0.3, random_state=42)"
   ]
  },
  {
   "cell_type": "code",
   "execution_count": 51,
   "id": "37ab8ee1",
   "metadata": {},
   "outputs": [
    {
     "data": {
      "text/html": [
       "<style>#sk-container-id-8 {color: black;background-color: white;}#sk-container-id-8 pre{padding: 0;}#sk-container-id-8 div.sk-toggleable {background-color: white;}#sk-container-id-8 label.sk-toggleable__label {cursor: pointer;display: block;width: 100%;margin-bottom: 0;padding: 0.3em;box-sizing: border-box;text-align: center;}#sk-container-id-8 label.sk-toggleable__label-arrow:before {content: \"▸\";float: left;margin-right: 0.25em;color: #696969;}#sk-container-id-8 label.sk-toggleable__label-arrow:hover:before {color: black;}#sk-container-id-8 div.sk-estimator:hover label.sk-toggleable__label-arrow:before {color: black;}#sk-container-id-8 div.sk-toggleable__content {max-height: 0;max-width: 0;overflow: hidden;text-align: left;background-color: #f0f8ff;}#sk-container-id-8 div.sk-toggleable__content pre {margin: 0.2em;color: black;border-radius: 0.25em;background-color: #f0f8ff;}#sk-container-id-8 input.sk-toggleable__control:checked~div.sk-toggleable__content {max-height: 200px;max-width: 100%;overflow: auto;}#sk-container-id-8 input.sk-toggleable__control:checked~label.sk-toggleable__label-arrow:before {content: \"▾\";}#sk-container-id-8 div.sk-estimator input.sk-toggleable__control:checked~label.sk-toggleable__label {background-color: #d4ebff;}#sk-container-id-8 div.sk-label input.sk-toggleable__control:checked~label.sk-toggleable__label {background-color: #d4ebff;}#sk-container-id-8 input.sk-hidden--visually {border: 0;clip: rect(1px 1px 1px 1px);clip: rect(1px, 1px, 1px, 1px);height: 1px;margin: -1px;overflow: hidden;padding: 0;position: absolute;width: 1px;}#sk-container-id-8 div.sk-estimator {font-family: monospace;background-color: #f0f8ff;border: 1px dotted black;border-radius: 0.25em;box-sizing: border-box;margin-bottom: 0.5em;}#sk-container-id-8 div.sk-estimator:hover {background-color: #d4ebff;}#sk-container-id-8 div.sk-parallel-item::after {content: \"\";width: 100%;border-bottom: 1px solid gray;flex-grow: 1;}#sk-container-id-8 div.sk-label:hover label.sk-toggleable__label {background-color: #d4ebff;}#sk-container-id-8 div.sk-serial::before {content: \"\";position: absolute;border-left: 1px solid gray;box-sizing: border-box;top: 0;bottom: 0;left: 50%;z-index: 0;}#sk-container-id-8 div.sk-serial {display: flex;flex-direction: column;align-items: center;background-color: white;padding-right: 0.2em;padding-left: 0.2em;position: relative;}#sk-container-id-8 div.sk-item {position: relative;z-index: 1;}#sk-container-id-8 div.sk-parallel {display: flex;align-items: stretch;justify-content: center;background-color: white;position: relative;}#sk-container-id-8 div.sk-item::before, #sk-container-id-8 div.sk-parallel-item::before {content: \"\";position: absolute;border-left: 1px solid gray;box-sizing: border-box;top: 0;bottom: 0;left: 50%;z-index: -1;}#sk-container-id-8 div.sk-parallel-item {display: flex;flex-direction: column;z-index: 1;position: relative;background-color: white;}#sk-container-id-8 div.sk-parallel-item:first-child::after {align-self: flex-end;width: 50%;}#sk-container-id-8 div.sk-parallel-item:last-child::after {align-self: flex-start;width: 50%;}#sk-container-id-8 div.sk-parallel-item:only-child::after {width: 0;}#sk-container-id-8 div.sk-dashed-wrapped {border: 1px dashed gray;margin: 0 0.4em 0.5em 0.4em;box-sizing: border-box;padding-bottom: 0.4em;background-color: white;}#sk-container-id-8 div.sk-label label {font-family: monospace;font-weight: bold;display: inline-block;line-height: 1.2em;}#sk-container-id-8 div.sk-label-container {text-align: center;}#sk-container-id-8 div.sk-container {/* jupyter's `normalize.less` sets `[hidden] { display: none; }` but bootstrap.min.css set `[hidden] { display: none !important; }` so we also need the `!important` here to be able to override the default hidden behavior on the sphinx rendered scikit-learn.org. See: https://github.com/scikit-learn/scikit-learn/issues/21755 */display: inline-block !important;position: relative;}#sk-container-id-8 div.sk-text-repr-fallback {display: none;}</style><div id=\"sk-container-id-8\" class=\"sk-top-container\"><div class=\"sk-text-repr-fallback\"><pre>RandomForestClassifier(criterion=&#x27;entropy&#x27;, n_estimators=25, n_jobs=-1,\n",
       "                       random_state=42)</pre><b>In a Jupyter environment, please rerun this cell to show the HTML representation or trust the notebook. <br />On GitHub, the HTML representation is unable to render, please try loading this page with nbviewer.org.</b></div><div class=\"sk-container\" hidden><div class=\"sk-item\"><div class=\"sk-estimator sk-toggleable\"><input class=\"sk-toggleable__control sk-hidden--visually\" id=\"sk-estimator-id-11\" type=\"checkbox\" checked><label for=\"sk-estimator-id-11\" class=\"sk-toggleable__label sk-toggleable__label-arrow\">RandomForestClassifier</label><div class=\"sk-toggleable__content\"><pre>RandomForestClassifier(criterion=&#x27;entropy&#x27;, n_estimators=25, n_jobs=-1,\n",
       "                       random_state=42)</pre></div></div></div></div></div>"
      ],
      "text/plain": [
       "RandomForestClassifier(criterion='entropy', n_estimators=25, n_jobs=-1,\n",
       "                       random_state=42)"
      ]
     },
     "execution_count": 51,
     "metadata": {},
     "output_type": "execute_result"
    }
   ],
   "source": [
    "#모델을 만들어서 훈련\n",
    "\n",
    "#불순도 지표는 entropy - 기본은 gini 계수\n",
    "#트리의 개수는 25개\n",
    "#코어는 최대한 사용\n",
    "forest = RandomForestClassifier(criterion='entropy', \n",
    "                                n_estimators=25, random_state=42, n_jobs=-1)\n",
    "\n",
    "forest.fit(X_train, y_train)"
   ]
  },
  {
   "cell_type": "code",
   "execution_count": 52,
   "id": "9874eff1",
   "metadata": {},
   "outputs": [
    {
     "name": "stdout",
     "output_type": "stream",
     "text": [
      "[0 1 1 1 0 1 0 1 1 1]\n",
      "[0 1 1 1 0 1 1 1 0 0]\n"
     ]
    }
   ],
   "source": [
    "#평가 지표 확인\n",
    "y_hat = forest.predict(X_test)\n",
    "\n",
    "print(y_hat[0:10])\n",
    "print(y_test.values[0:10])"
   ]
  },
  {
   "cell_type": "code",
   "execution_count": 53,
   "id": "390e0b10",
   "metadata": {},
   "outputs": [
    {
     "name": "stdout",
     "output_type": "stream",
     "text": [
      "[[105  21]\n",
      " [ 23  66]]\n",
      "0.7953488372093023\n"
     ]
    }
   ],
   "source": [
    "from sklearn import metrics\n",
    "#오차 행렬 확인\n",
    "tree_matrix = metrics.confusion_matrix(y_test, y_hat)\n",
    "print(tree_matrix)\n",
    "#정확도 계산\n",
    "print((tree_matrix[0, 0] + tree_matrix[1,1]) / np.sum(tree_matrix))"
   ]
  },
  {
   "cell_type": "code",
   "execution_count": 54,
   "id": "c0be054c",
   "metadata": {},
   "outputs": [
    {
     "name": "stdout",
     "output_type": "stream",
     "text": [
      "              precision    recall  f1-score   support\n",
      "\n",
      "           0       0.82      0.83      0.83       126\n",
      "           1       0.76      0.74      0.75        89\n",
      "\n",
      "    accuracy                           0.80       215\n",
      "   macro avg       0.79      0.79      0.79       215\n",
      "weighted avg       0.79      0.80      0.79       215\n",
      "\n"
     ]
    }
   ],
   "source": [
    "tree_report = metrics.classification_report(y_test, y_hat)\n",
    "print(tree_report)"
   ]
  },
  {
   "cell_type": "code",
   "execution_count": 55,
   "id": "1f3f4790",
   "metadata": {},
   "outputs": [
    {
     "data": {
      "image/png": "[encoded data removed]",
      "text/plain": [
       "<Figure size 640x480 with 1 Axes>"
      ]
     },
     "metadata": {},
     "output_type": "display_data"
    }
   ],
   "source": [
    "#특성 중요도 확인\n",
    "n_features = X.data.shape[1]\n",
    "plt.barh(np.arange(n_features), forest.feature_importances_, align='center')\n",
    "plt.yticks(np.arange(n_features), \n",
    "           ['pclass', 'age', 'sibsp', 'parch', 'female', 'male', 'town_C', 'town_Q',\n",
    "           'town_S'])\n",
    "plt.xlabel('특성 중요도')\n",
    "plt.ylabel('특성')\n",
    "plt.ylim(-1, n_features)\n",
    "plt.show()"
   ]
  },
  {
   "cell_type": "code",
   "execution_count": 56,
   "id": "43ac498f",
   "metadata": {},
   "outputs": [
    {
     "name": "stdout",
     "output_type": "stream",
     "text": [
      "[0 1 1 1 0 0 0 0 1 1]\n",
      "[0 1 1 1 0 1 1 1 0 0]\n"
     ]
    }
   ],
   "source": [
    "## AdaBoost\n",
    "from sklearn.ensemble import AdaBoostClassifier\n",
    "#algorithm 은 확률을 계산할 수 있으면 SAMME.R 이고 없으면 SAMME\n",
    "#learning_rate 는 학습률\n",
    "#학습률이 너무 크면 최적화 되지 않을 가능성이 높아지고 너무 작으면 훈련 속도가 느려지고\n",
    "#overfitting 될 가능성이 발생\n",
    "ada_clf = AdaBoostClassifier(\n",
    "    DecisionTreeClassifier(max_depth=1),\n",
    "    n_estimators=200,\n",
    "    algorithm=\"SAMME.R\", \n",
    "    learning_rate=0.5,\n",
    "    random_state=42\n",
    ")\n",
    "\n",
    "ada_clf.fit(X_train, y_train)\n",
    "\n",
    "y_hat = ada_clf.predict(X_test)\n",
    "\n",
    "print(y_hat[0:10])\n",
    "print(y_test.values[0:10])"
   ]
  },
  {
   "cell_type": "code",
   "execution_count": 57,
   "id": "394977d3",
   "metadata": {},
   "outputs": [
    {
     "name": "stdout",
     "output_type": "stream",
     "text": [
      "[[99 27]\n",
      " [24 65]]\n",
      "0.7627906976744186\n",
      "              precision    recall  f1-score   support\n",
      "\n",
      "           0       0.80      0.79      0.80       126\n",
      "           1       0.71      0.73      0.72        89\n",
      "\n",
      "    accuracy                           0.76       215\n",
      "   macro avg       0.76      0.76      0.76       215\n",
      "weighted avg       0.76      0.76      0.76       215\n",
      "\n"
     ]
    }
   ],
   "source": [
    "#오차 행렬 확인\n",
    "ada_matrix = metrics.confusion_matrix(y_test, y_hat)\n",
    "print(ada_matrix)\n",
    "#정확도 계산\n",
    "print((ada_matrix[0, 0] + ada_matrix[1,1]) / np.sum(ada_matrix))\n",
    "\n",
    "ada_report = metrics.classification_report(y_test, y_hat)\n",
    "print(ada_report)"
   ]
  },
  {
   "cell_type": "code",
   "execution_count": 58,
   "id": "e5729ae9",
   "metadata": {},
   "outputs": [
    {
     "name": "stdout",
     "output_type": "stream",
     "text": [
      "[0 1 1 1 0 1 0 1 0 1]\n",
      "[0 1 1 1 0 1 1 1 0 0]\n",
      "CPU times: total: 93.8 ms\n",
      "Wall time: 104 ms\n"
     ]
    }
   ],
   "source": [
    "%%time\n",
    "#주피터 노트북에서 시간 측정할 때 사용\n",
    "## Gradient Boosting\n",
    "from sklearn.ensemble import GradientBoostingClassifier\n",
    "gbm_clf = GradientBoostingClassifier(random_state=42)\n",
    "\n",
    "gbm_clf.fit(X_train, y_train)\n",
    "\n",
    "y_hat = gbm_clf.predict(X_test)\n",
    "\n",
    "print(y_hat[0:10])\n",
    "print(y_test.values[0:10])"
   ]
  },
  {
   "cell_type": "code",
   "execution_count": 59,
   "id": "7ac05388",
   "metadata": {},
   "outputs": [
    {
     "name": "stdout",
     "output_type": "stream",
     "text": [
      "[[108  18]\n",
      " [ 25  64]]\n",
      "              precision    recall  f1-score   support\n",
      "\n",
      "           0       0.81      0.86      0.83       126\n",
      "           1       0.78      0.72      0.75        89\n",
      "\n",
      "    accuracy                           0.80       215\n",
      "   macro avg       0.80      0.79      0.79       215\n",
      "weighted avg       0.80      0.80      0.80       215\n",
      "\n"
     ]
    }
   ],
   "source": [
    "#오차 행렬 확인\n",
    "gbm_matrix = metrics.confusion_matrix(y_test, y_hat)\n",
    "print(gbm_matrix)\n",
    "gbm_report = metrics.classification_report(y_test, y_hat)\n",
    "print(gbm_report)"
   ]
  },
  {
   "cell_type": "code",
   "execution_count": 60,
   "id": "9ed16d43",
   "metadata": {},
   "outputs": [
    {
     "name": "stdout",
     "output_type": "stream",
     "text": [
      "Fitting 2 folds for each of 4 candidates, totalling 8 fits\n",
      "최적의 파라미터: {'learning_rate': 0.1, 'n_estimators': 100}\n",
      "최적의 정확도: 0.8136546184738955\n",
      "CPU times: total: 2.33 s\n",
      "Wall time: 2.34 s\n"
     ]
    }
   ],
   "source": [
    "%%time\n",
    "#하이퍼 파라미터 튜닝 - 시간이 있을 때는 여러 값을 설정\n",
    "from sklearn.model_selection import GridSearchCV\n",
    "\n",
    "#실제로는 4가지\n",
    "params = {\n",
    "    'n_estimators':[100, 500],\n",
    "    'learning_rate': [0.05, 0.1]\n",
    "}\n",
    "\n",
    "grid_cv = GridSearchCV(gbm_clf, param_grid=params, cv=2, verbose=1)\n",
    "grid_cv.fit(X_train, y_train)\n",
    "print(\"최적의 파라미터:\", grid_cv.best_params_)\n",
    "print(\"최적의 정확도:\", grid_cv.best_score_)"
   ]
  },
  {
   "cell_type": "code",
   "execution_count": 61,
   "id": "0edcb459",
   "metadata": {},
   "outputs": [
    {
     "name": "stdout",
     "output_type": "stream",
     "text": [
      "              precision    recall  f1-score   support\n",
      "\n",
      "           0       0.81      0.86      0.83       126\n",
      "           1       0.78      0.72      0.75        89\n",
      "\n",
      "    accuracy                           0.80       215\n",
      "   macro avg       0.80      0.79      0.79       215\n",
      "weighted avg       0.80      0.80      0.80       215\n",
      "\n"
     ]
    }
   ],
   "source": [
    "#튜닝의 결과로 예측\n",
    "gbm_pred = grid_cv.best_estimator_.predict(X_test)\n",
    "gbm_report = metrics.classification_report(y_test, gbm_pred)\n",
    "print(gbm_report)"
   ]
  },
  {
   "cell_type": "code",
   "execution_count": null,
   "id": "33d4c72b",
   "metadata": {},
   "outputs": [],
   "source": []
  },
  {
   "cell_type": "code",
   "execution_count": null,
   "id": "5a2941c1",
   "metadata": {},
   "outputs": [],
   "source": []
  }
 ],
 "metadata": {
  "kernelspec": {
   "display_name": "Python 3 (ipykernel)",
   "language": "python",
   "name": "python3"
  },
  "language_info": {
   "codemirror_mode": {
    "name": "ipython",
    "version": 3
   },
   "file_extension": ".py",
   "mimetype": "text/x-python",
   "name": "python",
   "nbconvert_exporter": "python",
   "pygments_lexer": "ipython3",
   "version": "3.10.9"
  }
 },
 "nbformat": 4,
 "nbformat_minor": 5
}
